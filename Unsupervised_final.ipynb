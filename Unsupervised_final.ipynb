{
 "cells": [
  {
   "cell_type": "markdown",
   "metadata": {},
   "source": [
    "# <h1><center> Movie Recommendation System </center></h1>"
   ]
  },
  {
   "cell_type": "code",
   "execution_count": 7,
   "metadata": {},
   "outputs": [
    {
     "name": "stderr",
     "output_type": "stream",
     "text": [
      "'[sad]' is not recognized as an internal or external command,\n",
      "operable program or batch file.\n"
     ]
    }
   ],
   "source": [
    "![](https://media.giphy.com/media/3ohhwDMC187JqL69DG/giphy.gif)"
   ]
  },
  {
   "cell_type": "markdown",
   "metadata": {},
   "source": [
    "<a id='Table_Contents'></a><br>\n",
    "## Table of Contents\n",
    "\n",
    "[1.Introduction](#Intro)<br>\n",
    "\n",
    "[2.Imports](#Importing)<br>\n",
    "* Importing Packages\n",
    "* Importing Datasets\n",
    "\n",
    "[3.Data Description](#Data_Description)<br>\n",
    "\n",
    "[4.Data Preprocessing](#Data_clean)<br>\n",
    "* Extracting movie years from title\n",
    "* Removing the pipe '|' \n",
    "* IMDB Data Cleaning\n",
    "* Merging Movies and IMDB data\n",
    "* Merging Movies,IMDB data and ratings(train)\n",
    "\n",
    "[5.Exploratory Data Analysis (EDA)](#EDA)<br>\n",
    "* Title and Overview Wordclouds\n",
    "* Ratings Average and count\n",
    "\n",
    "* Movie Release dates\n",
    "    * Number of movies per year\n",
    "    * Earliest movies represented \n",
    "* Runtime \n",
    "\n",
    "* Budget\n",
    " \n",
    "* Genres\n",
    "* Cast and Crew\n",
    "* Understanding the Users\n",
    "    * Check for missing values and extracting datetime\n",
    "    * Check date/time distribution\n",
    "    * Users distribution\n",
    "\n",
    "[6.Modelling](#modelling)<br>\n",
    "* Singular Value Decomposition (SVD)\n",
    "* KNNWithMeans\n",
    "* KNNBasic\n",
    "\n",
    "[7.Performance Optimization](#performance)<br>\n",
    "\n",
    "[8.Model Performance](#model_performance)<br>\n",
    "\n",
    "[9.Recommender System](#recommender)<br>\n",
    "* Content Based Recommendation\n",
    "* Collaborative Based Recommendation \n",
    "\n",
    "[10.Conclusion](#conclusion)<br>"
   ]
  },
  {
   "cell_type": "markdown",
   "metadata": {
    "heading_collapsed": true
   },
   "source": [
    "## 1.Introduction\n",
    "<a id='Intro'></a> "
   ]
  },
  {
   "cell_type": "markdown",
   "metadata": {
    "hidden": true
   },
   "source": [
    "In today’s technology driven world, recommender systems are socially and economically critical for ensuring that individuals can make appropriate choices surrounding the content they engage with on a daily basis. One application where this is especially true surrounds movie content recommendations; where intelligent algorithms can help viewers find great titles from tens of thousands of options.\n",
    "\n",
    "With this context, EDSA has challenged us to construct a recommendation algorithm based on content or collaborative filtering, capable of accurately predicting how a user will rate a movie they have not yet viewed based on their historical preferences.\n",
    "\n",
    "Providing an accurate and robust solution to this challenge has immense economic potential, with users of the system being exposed to content they would like to view or purchase - generating revenue and platform affinity.\n",
    "\n",
    "**Data Overview**\n",
    "\n",
    "**This dataset consists of several million 5-star ratings obtained from users of the online MovieLens movie recommendation service.** The MovieLens dataset has long been used by industry and academic researchers to improve the performance of explicitly-based recommender systems, and now you get to as well!\n",
    "\n",
    "For this notebook, we'll be using a special version of the MovieLens dataset which has enriched with additional data, and resampled for fair evaluation purposes.\n",
    "\n",
    "<b>In this notebook, we will look at : </b>\n",
    "* Model based predictions of ratings\n",
    "* Matrix Factorisation to predict ratings\n",
    "* Content based filtering for recommendations\n",
    "* Collaborative filtering for recommendations "
   ]
  },
  {
   "cell_type": "markdown",
   "metadata": {},
   "source": [
    "## 2.Imports\n",
    "<a id='Importing'></a>\n",
    "[Back to Table of Contents](#Table_Contents)"
   ]
  },
  {
   "cell_type": "markdown",
   "metadata": {},
   "source": [
    "<font size=\"4\"><b>Importing Packages</b></font>"
   ]
  },
  {
   "cell_type": "code",
   "execution_count": 136,
   "metadata": {},
   "outputs": [],
   "source": [
    "# Inspecting\n",
    "import pandas as pd\n",
    "import numpy as np\n",
    "import random\n",
    "%matplotlib inline\n",
    "from IPython.display import Image, HTML\n",
    "pd.set_option('display.max_colwidth',None)\n",
    "import datetime\n",
    "\n",
    "#Visuals\n",
    "import matplotlib.pyplot as plt\n",
    "import seaborn as sns\n",
    "from wordcloud import WordCloud, STOPWORDS\n",
    "\n",
    "sns.set_style('whitegrid')\n",
    "sns.set(font_scale=1.25)\n",
    "pd.set_option('display.max_colwidth', 50)\n",
    "\n",
    "#Warnings \n",
    "import warnings\n",
    "warnings.filterwarnings('ignore')\n",
    "\n",
    "#sklearn-surprise for modelling \n",
    "from sklearn.metrics.pairwise import cosine_similarity\n",
    "from surprise.model_selection import train_test_split\n",
    "from surprise.prediction_algorithms import KNNWithMeans,SVD,KNNBasic,SVDpp\n",
    "from surprise import Reader, Dataset\n",
    "reader = Reader()\n",
    "\n",
    "#Recommender Systems\n",
    "import os\n",
    "import heapq\n",
    "import operator\n",
    "from sklearn.metrics.pairwise import cosine_similarity\n",
    "from sklearn.feature_extraction.text import TfidfVectorizer\n",
    "\n",
    "#Metrics for analysis \n",
    "from surprise import accuracy\n",
    "\n",
    "#For subset of data\n",
    "from collections import Counter\n",
    "\n",
    "#Parameter Tuning\n",
    "from surprise.model_selection import GridSearchCV"
   ]
  },
  {
   "cell_type": "markdown",
   "metadata": {},
   "source": [
    "<br><font size=\"4\"><b>Importing Datasets</b></font><br><br>\n",
    "The data for the MovieLens dataset is maintained by the GroupLens research group in the Department of Computer Science and Engineering at the University of Minnesota. Additional movie content data was legally scraped from IMDB "
   ]
  },
  {
   "cell_type": "markdown",
   "metadata": {},
   "source": [
    "* **genome_scores.csv** - a score mapping the strength between movies and tag-related properties. Read more here\n",
    "* **genome_tags.csv** - user assigned tags for genome-related scores\n",
    "* **imdb_data.csv** - Additional movie metadata scraped from IMDB using the links.csv file.\n",
    "* **links.csv** - File providing a mapping between a MovieLens ID and associated IMDB and TMDB IDs.\n",
    "* **sample_submission.csv** - Sample of the submission format for the hackathon.\n",
    "* **tags.csv** - User assigned for the movies within the dataset.\n",
    "* **test.csv** - The test split of the dataset. Contains user and movie IDs with no rating data.\n",
    "* **train.csv** - The training split of the dataset. Contains user and movie IDs with associated rating data."
   ]
  },
  {
   "cell_type": "code",
   "execution_count": 15,
   "metadata": {},
   "outputs": [],
   "source": [
    "train = pd.read_csv('train.csv')\n",
    "test = pd.read_csv('test.csv')\n",
    "tags = pd.read_csv('tags.csv')\n",
    "movies = pd.read_csv('movies.csv')\n",
    "links = pd.read_csv('links.csv')\n",
    "imdb_data = pd.read_csv('imdb_data.csv')\n",
    "genome_scores = pd.read_csv('genome_scores.csv')\n",
    "genome_tags = pd.read_csv('genome_tags.csv')"
   ]
  },
  {
   "cell_type": "markdown",
   "metadata": {
    "heading_collapsed": true
   },
   "source": [
    "## 3. Data Description\n",
    "<a id='Data_Description'></a>\n",
    "[Back to Table of Contents](#Table_Contents)"
   ]
  },
  {
   "cell_type": "markdown",
   "metadata": {
    "hidden": true
   },
   "source": [
    "Let us take a look at the number of rows and columns in each dataset."
   ]
  },
  {
   "cell_type": "code",
   "execution_count": 20,
   "metadata": {
    "hidden": true
   },
   "outputs": [
    {
     "name": "stdout",
     "output_type": "stream",
     "text": [
      "Train data contains 10000038 rows and 4 columns\n",
      "Test data contains 62423 rows and 3 columns\n",
      "Movies data contains 62423 rows and 3 columns\n",
      "IMDB data contains 27278 rows and 6 columns\n",
      "Tags data contains 1093360 rows and 4 columns\n",
      "Genome tags data contains 1128 rows and 2 columns\n",
      "Genome scores data contains 15584448 rows and 3 columns\n",
      "Links data contains 62423 rows and 3 columns\n"
     ]
    }
   ],
   "source": [
    "#Looking at the number of rows and columns of each dataframe \n",
    "print(\"Train data contains {} rows and {} columns\".format(train.shape[0], train.shape[1]))\n",
    "print(\"Test data contains {} rows and {} columns\".format(links.shape[0], links.shape[1]))\n",
    "print(\"Movies data contains {} rows and {} columns\".format(movies.shape[0], movies.shape[1]))\n",
    "print(\"IMDB data contains {} rows and {} columns\".format(imdb_data.shape[0], imdb_data.shape[1]))\n",
    "print(\"Tags data contains {} rows and {} columns\".format(tags.shape[0], tags.shape[1]))\n",
    "print(\"Genome tags data contains {} rows and {} columns\".format(genome_tags.shape[0], genome_tags.shape[1]))\n",
    "print(\"Genome scores data contains {} rows and {} columns\".format(genome_scores.shape[0], genome_scores.shape[1]))\n",
    "print(\"Links data contains {} rows and {} columns\".format(links.shape[0], links.shape[1]))"
   ]
  },
  {
   "cell_type": "markdown",
   "metadata": {
    "hidden": true
   },
   "source": [
    "**Now let's take a look at the first few rows of each dataframe and it's info.**<br><br>\n",
    "We will not be using the links dataset as it is just used in a database as a mapping table. The genome scores dataset is also of no use to us since we are more interested in the ratings,users and movies data for our predictions."
   ]
  },
  {
   "cell_type": "markdown",
   "metadata": {
    "hidden": true
   },
   "source": [
    "**train(ratings)**"
   ]
  },
  {
   "cell_type": "code",
   "execution_count": 21,
   "metadata": {
    "hidden": true
   },
   "outputs": [
    {
     "data": {
      "text/html": [
       "<div>\n",
       "<style scoped>\n",
       "    .dataframe tbody tr th:only-of-type {\n",
       "        vertical-align: middle;\n",
       "    }\n",
       "\n",
       "    .dataframe tbody tr th {\n",
       "        vertical-align: top;\n",
       "    }\n",
       "\n",
       "    .dataframe thead th {\n",
       "        text-align: right;\n",
       "    }\n",
       "</style>\n",
       "<table border=\"1\" class=\"dataframe\">\n",
       "  <thead>\n",
       "    <tr style=\"text-align: right;\">\n",
       "      <th></th>\n",
       "      <th>userId</th>\n",
       "      <th>movieId</th>\n",
       "      <th>rating</th>\n",
       "      <th>timestamp</th>\n",
       "    </tr>\n",
       "  </thead>\n",
       "  <tbody>\n",
       "    <tr>\n",
       "      <th>0</th>\n",
       "      <td>5163</td>\n",
       "      <td>57669</td>\n",
       "      <td>4.0</td>\n",
       "      <td>1518349992</td>\n",
       "    </tr>\n",
       "    <tr>\n",
       "      <th>1</th>\n",
       "      <td>106343</td>\n",
       "      <td>5</td>\n",
       "      <td>4.5</td>\n",
       "      <td>1206238739</td>\n",
       "    </tr>\n",
       "    <tr>\n",
       "      <th>2</th>\n",
       "      <td>146790</td>\n",
       "      <td>5459</td>\n",
       "      <td>5.0</td>\n",
       "      <td>1076215539</td>\n",
       "    </tr>\n",
       "    <tr>\n",
       "      <th>3</th>\n",
       "      <td>106362</td>\n",
       "      <td>32296</td>\n",
       "      <td>2.0</td>\n",
       "      <td>1423042565</td>\n",
       "    </tr>\n",
       "    <tr>\n",
       "      <th>4</th>\n",
       "      <td>9041</td>\n",
       "      <td>366</td>\n",
       "      <td>3.0</td>\n",
       "      <td>833375837</td>\n",
       "    </tr>\n",
       "  </tbody>\n",
       "</table>\n",
       "</div>"
      ],
      "text/plain": [
       "   userId  movieId  rating   timestamp\n",
       "0    5163    57669     4.0  1518349992\n",
       "1  106343        5     4.5  1206238739\n",
       "2  146790     5459     5.0  1076215539\n",
       "3  106362    32296     2.0  1423042565\n",
       "4    9041      366     3.0   833375837"
      ]
     },
     "execution_count": 21,
     "metadata": {},
     "output_type": "execute_result"
    }
   ],
   "source": [
    "train.head()"
   ]
  },
  {
   "cell_type": "code",
   "execution_count": 24,
   "metadata": {
    "hidden": true
   },
   "outputs": [
    {
     "name": "stdout",
     "output_type": "stream",
     "text": [
      "<class 'pandas.core.frame.DataFrame'>\n",
      "RangeIndex: 10000038 entries, 0 to 10000037\n",
      "Data columns (total 4 columns):\n",
      " #   Column     Dtype  \n",
      "---  ------     -----  \n",
      " 0   userId     int64  \n",
      " 1   movieId    int64  \n",
      " 2   rating     float64\n",
      " 3   timestamp  int64  \n",
      "dtypes: float64(1), int64(3)\n",
      "memory usage: 305.2 MB\n"
     ]
    }
   ],
   "source": [
    "train.info()"
   ]
  },
  {
   "cell_type": "markdown",
   "metadata": {
    "hidden": true
   },
   "source": [
    "**test**"
   ]
  },
  {
   "cell_type": "code",
   "execution_count": 22,
   "metadata": {
    "hidden": true
   },
   "outputs": [
    {
     "data": {
      "text/html": [
       "<div>\n",
       "<style scoped>\n",
       "    .dataframe tbody tr th:only-of-type {\n",
       "        vertical-align: middle;\n",
       "    }\n",
       "\n",
       "    .dataframe tbody tr th {\n",
       "        vertical-align: top;\n",
       "    }\n",
       "\n",
       "    .dataframe thead th {\n",
       "        text-align: right;\n",
       "    }\n",
       "</style>\n",
       "<table border=\"1\" class=\"dataframe\">\n",
       "  <thead>\n",
       "    <tr style=\"text-align: right;\">\n",
       "      <th></th>\n",
       "      <th>userId</th>\n",
       "      <th>movieId</th>\n",
       "    </tr>\n",
       "  </thead>\n",
       "  <tbody>\n",
       "    <tr>\n",
       "      <th>0</th>\n",
       "      <td>1</td>\n",
       "      <td>2011</td>\n",
       "    </tr>\n",
       "    <tr>\n",
       "      <th>1</th>\n",
       "      <td>1</td>\n",
       "      <td>4144</td>\n",
       "    </tr>\n",
       "    <tr>\n",
       "      <th>2</th>\n",
       "      <td>1</td>\n",
       "      <td>5767</td>\n",
       "    </tr>\n",
       "    <tr>\n",
       "      <th>3</th>\n",
       "      <td>1</td>\n",
       "      <td>6711</td>\n",
       "    </tr>\n",
       "    <tr>\n",
       "      <th>4</th>\n",
       "      <td>1</td>\n",
       "      <td>7318</td>\n",
       "    </tr>\n",
       "  </tbody>\n",
       "</table>\n",
       "</div>"
      ],
      "text/plain": [
       "   userId  movieId\n",
       "0       1     2011\n",
       "1       1     4144\n",
       "2       1     5767\n",
       "3       1     6711\n",
       "4       1     7318"
      ]
     },
     "execution_count": 22,
     "metadata": {},
     "output_type": "execute_result"
    }
   ],
   "source": [
    "test.head()"
   ]
  },
  {
   "cell_type": "code",
   "execution_count": 25,
   "metadata": {
    "hidden": true
   },
   "outputs": [
    {
     "name": "stdout",
     "output_type": "stream",
     "text": [
      "<class 'pandas.core.frame.DataFrame'>\n",
      "RangeIndex: 5000019 entries, 0 to 5000018\n",
      "Data columns (total 2 columns):\n",
      " #   Column   Dtype\n",
      "---  ------   -----\n",
      " 0   userId   int64\n",
      " 1   movieId  int64\n",
      "dtypes: int64(2)\n",
      "memory usage: 76.3 MB\n"
     ]
    }
   ],
   "source": [
    "test.info()"
   ]
  },
  {
   "cell_type": "markdown",
   "metadata": {
    "hidden": true
   },
   "source": [
    "**movies**"
   ]
  },
  {
   "cell_type": "code",
   "execution_count": 26,
   "metadata": {
    "hidden": true
   },
   "outputs": [
    {
     "data": {
      "text/html": [
       "<div>\n",
       "<style scoped>\n",
       "    .dataframe tbody tr th:only-of-type {\n",
       "        vertical-align: middle;\n",
       "    }\n",
       "\n",
       "    .dataframe tbody tr th {\n",
       "        vertical-align: top;\n",
       "    }\n",
       "\n",
       "    .dataframe thead th {\n",
       "        text-align: right;\n",
       "    }\n",
       "</style>\n",
       "<table border=\"1\" class=\"dataframe\">\n",
       "  <thead>\n",
       "    <tr style=\"text-align: right;\">\n",
       "      <th></th>\n",
       "      <th>movieId</th>\n",
       "      <th>title</th>\n",
       "      <th>genres</th>\n",
       "    </tr>\n",
       "  </thead>\n",
       "  <tbody>\n",
       "    <tr>\n",
       "      <th>0</th>\n",
       "      <td>1</td>\n",
       "      <td>Toy Story (1995)</td>\n",
       "      <td>Adventure|Animation|Children|Comedy|Fantasy</td>\n",
       "    </tr>\n",
       "    <tr>\n",
       "      <th>1</th>\n",
       "      <td>2</td>\n",
       "      <td>Jumanji (1995)</td>\n",
       "      <td>Adventure|Children|Fantasy</td>\n",
       "    </tr>\n",
       "    <tr>\n",
       "      <th>2</th>\n",
       "      <td>3</td>\n",
       "      <td>Grumpier Old Men (1995)</td>\n",
       "      <td>Comedy|Romance</td>\n",
       "    </tr>\n",
       "    <tr>\n",
       "      <th>3</th>\n",
       "      <td>4</td>\n",
       "      <td>Waiting to Exhale (1995)</td>\n",
       "      <td>Comedy|Drama|Romance</td>\n",
       "    </tr>\n",
       "    <tr>\n",
       "      <th>4</th>\n",
       "      <td>5</td>\n",
       "      <td>Father of the Bride Part II (1995)</td>\n",
       "      <td>Comedy</td>\n",
       "    </tr>\n",
       "  </tbody>\n",
       "</table>\n",
       "</div>"
      ],
      "text/plain": [
       "   movieId                               title  \\\n",
       "0        1                    Toy Story (1995)   \n",
       "1        2                      Jumanji (1995)   \n",
       "2        3             Grumpier Old Men (1995)   \n",
       "3        4            Waiting to Exhale (1995)   \n",
       "4        5  Father of the Bride Part II (1995)   \n",
       "\n",
       "                                        genres  \n",
       "0  Adventure|Animation|Children|Comedy|Fantasy  \n",
       "1                   Adventure|Children|Fantasy  \n",
       "2                               Comedy|Romance  \n",
       "3                         Comedy|Drama|Romance  \n",
       "4                                       Comedy  "
      ]
     },
     "execution_count": 26,
     "metadata": {},
     "output_type": "execute_result"
    }
   ],
   "source": [
    "movies.head()"
   ]
  },
  {
   "cell_type": "code",
   "execution_count": 27,
   "metadata": {
    "hidden": true
   },
   "outputs": [
    {
     "name": "stdout",
     "output_type": "stream",
     "text": [
      "<class 'pandas.core.frame.DataFrame'>\n",
      "RangeIndex: 62423 entries, 0 to 62422\n",
      "Data columns (total 3 columns):\n",
      " #   Column   Non-Null Count  Dtype \n",
      "---  ------   --------------  ----- \n",
      " 0   movieId  62423 non-null  int64 \n",
      " 1   title    62423 non-null  object\n",
      " 2   genres   62423 non-null  object\n",
      "dtypes: int64(1), object(2)\n",
      "memory usage: 1.4+ MB\n"
     ]
    }
   ],
   "source": [
    "movies.info()"
   ]
  },
  {
   "cell_type": "markdown",
   "metadata": {
    "hidden": true
   },
   "source": [
    "**imdb_data**"
   ]
  },
  {
   "cell_type": "code",
   "execution_count": 28,
   "metadata": {
    "hidden": true
   },
   "outputs": [
    {
     "data": {
      "text/html": [
       "<div>\n",
       "<style scoped>\n",
       "    .dataframe tbody tr th:only-of-type {\n",
       "        vertical-align: middle;\n",
       "    }\n",
       "\n",
       "    .dataframe tbody tr th {\n",
       "        vertical-align: top;\n",
       "    }\n",
       "\n",
       "    .dataframe thead th {\n",
       "        text-align: right;\n",
       "    }\n",
       "</style>\n",
       "<table border=\"1\" class=\"dataframe\">\n",
       "  <thead>\n",
       "    <tr style=\"text-align: right;\">\n",
       "      <th></th>\n",
       "      <th>movieId</th>\n",
       "      <th>title_cast</th>\n",
       "      <th>director</th>\n",
       "      <th>runtime</th>\n",
       "      <th>budget</th>\n",
       "      <th>plot_keywords</th>\n",
       "    </tr>\n",
       "  </thead>\n",
       "  <tbody>\n",
       "    <tr>\n",
       "      <th>0</th>\n",
       "      <td>1</td>\n",
       "      <td>Tom Hanks|Tim Allen|Don Rickles|Jim Varney|Wallace Shawn|John Ratzenberger|Annie Potts|John Morris|Erik von Detten|Laurie Metcalf|R. Lee Ermey|Sarah Freeman|Penn Jillette|Jack Angel|Spencer Aste</td>\n",
       "      <td>John Lasseter</td>\n",
       "      <td>81.0</td>\n",
       "      <td>$30,000,000</td>\n",
       "      <td>toy|rivalry|cowboy|cgi animation</td>\n",
       "    </tr>\n",
       "    <tr>\n",
       "      <th>1</th>\n",
       "      <td>2</td>\n",
       "      <td>Robin Williams|Jonathan Hyde|Kirsten Dunst|Bradley Pierce|Bonnie Hunt|Bebe Neuwirth|David Alan Grier|Patricia Clarkson|Adam Hann-Byrd|Laura Bell Bundy|James Handy|Gillian Barber|Brandon Obray|Cyrus Thiedeke|Gary Joseph Thorup</td>\n",
       "      <td>Jonathan Hensleigh</td>\n",
       "      <td>104.0</td>\n",
       "      <td>$65,000,000</td>\n",
       "      <td>board game|adventurer|fight|game</td>\n",
       "    </tr>\n",
       "    <tr>\n",
       "      <th>2</th>\n",
       "      <td>3</td>\n",
       "      <td>Walter Matthau|Jack Lemmon|Sophia Loren|Ann-Margret|Burgess Meredith|Daryl Hannah|Kevin Pollak|Katie Sagona|Ann Morgan Guilbert|James Andelin|Marcus Klemp|Max Wright|Cheryl Hawker|Wayne A. Evenson|Allison Levine</td>\n",
       "      <td>Mark Steven Johnson</td>\n",
       "      <td>101.0</td>\n",
       "      <td>$25,000,000</td>\n",
       "      <td>boat|lake|neighbor|rivalry</td>\n",
       "    </tr>\n",
       "    <tr>\n",
       "      <th>3</th>\n",
       "      <td>4</td>\n",
       "      <td>Whitney Houston|Angela Bassett|Loretta Devine|Lela Rochon|Gregory Hines|Dennis Haysbert|Mykelti Williamson|Michael Beach|Leon|Wendell Pierce|Donald Faison|Jeffrey D. Sams|Jazz Raycole|Brandon Hammond|Kenya Moore</td>\n",
       "      <td>Terry McMillan</td>\n",
       "      <td>124.0</td>\n",
       "      <td>$16,000,000</td>\n",
       "      <td>black american|husband wife relationship|betrayal|mother son relationship</td>\n",
       "    </tr>\n",
       "    <tr>\n",
       "      <th>4</th>\n",
       "      <td>5</td>\n",
       "      <td>Steve Martin|Diane Keaton|Martin Short|Kimberly Williams-Paisley|George Newbern|Kieran Culkin|BD Wong|Peter Michael Goetz|Kate McGregor-Stewart|Jane Adams|Eugene Levy|Rebecca Chambers|April Ortiz|Dulcy Rogers|Kathy Anthony</td>\n",
       "      <td>Albert Hackett</td>\n",
       "      <td>106.0</td>\n",
       "      <td>$30,000,000</td>\n",
       "      <td>fatherhood|doberman|dog|mansion</td>\n",
       "    </tr>\n",
       "  </tbody>\n",
       "</table>\n",
       "</div>"
      ],
      "text/plain": [
       "   movieId  \\\n",
       "0        1   \n",
       "1        2   \n",
       "2        3   \n",
       "3        4   \n",
       "4        5   \n",
       "\n",
       "                                                                                                                                                                                                                          title_cast  \\\n",
       "0                                 Tom Hanks|Tim Allen|Don Rickles|Jim Varney|Wallace Shawn|John Ratzenberger|Annie Potts|John Morris|Erik von Detten|Laurie Metcalf|R. Lee Ermey|Sarah Freeman|Penn Jillette|Jack Angel|Spencer Aste   \n",
       "1  Robin Williams|Jonathan Hyde|Kirsten Dunst|Bradley Pierce|Bonnie Hunt|Bebe Neuwirth|David Alan Grier|Patricia Clarkson|Adam Hann-Byrd|Laura Bell Bundy|James Handy|Gillian Barber|Brandon Obray|Cyrus Thiedeke|Gary Joseph Thorup   \n",
       "2                Walter Matthau|Jack Lemmon|Sophia Loren|Ann-Margret|Burgess Meredith|Daryl Hannah|Kevin Pollak|Katie Sagona|Ann Morgan Guilbert|James Andelin|Marcus Klemp|Max Wright|Cheryl Hawker|Wayne A. Evenson|Allison Levine   \n",
       "3                Whitney Houston|Angela Bassett|Loretta Devine|Lela Rochon|Gregory Hines|Dennis Haysbert|Mykelti Williamson|Michael Beach|Leon|Wendell Pierce|Donald Faison|Jeffrey D. Sams|Jazz Raycole|Brandon Hammond|Kenya Moore   \n",
       "4     Steve Martin|Diane Keaton|Martin Short|Kimberly Williams-Paisley|George Newbern|Kieran Culkin|BD Wong|Peter Michael Goetz|Kate McGregor-Stewart|Jane Adams|Eugene Levy|Rebecca Chambers|April Ortiz|Dulcy Rogers|Kathy Anthony   \n",
       "\n",
       "              director  runtime       budget  \\\n",
       "0        John Lasseter     81.0  $30,000,000   \n",
       "1   Jonathan Hensleigh    104.0  $65,000,000   \n",
       "2  Mark Steven Johnson    101.0  $25,000,000   \n",
       "3       Terry McMillan    124.0  $16,000,000   \n",
       "4       Albert Hackett    106.0  $30,000,000   \n",
       "\n",
       "                                                               plot_keywords  \n",
       "0                                           toy|rivalry|cowboy|cgi animation  \n",
       "1                                           board game|adventurer|fight|game  \n",
       "2                                                 boat|lake|neighbor|rivalry  \n",
       "3  black american|husband wife relationship|betrayal|mother son relationship  \n",
       "4                                            fatherhood|doberman|dog|mansion  "
      ]
     },
     "execution_count": 28,
     "metadata": {},
     "output_type": "execute_result"
    }
   ],
   "source": [
    "imdb_data.head()"
   ]
  },
  {
   "cell_type": "code",
   "execution_count": 29,
   "metadata": {
    "hidden": true
   },
   "outputs": [
    {
     "name": "stdout",
     "output_type": "stream",
     "text": [
      "<class 'pandas.core.frame.DataFrame'>\n",
      "RangeIndex: 27278 entries, 0 to 27277\n",
      "Data columns (total 6 columns):\n",
      " #   Column         Non-Null Count  Dtype  \n",
      "---  ------         --------------  -----  \n",
      " 0   movieId        27278 non-null  int64  \n",
      " 1   title_cast     17210 non-null  object \n",
      " 2   director       17404 non-null  object \n",
      " 3   runtime        15189 non-null  float64\n",
      " 4   budget         7906 non-null   object \n",
      " 5   plot_keywords  16200 non-null  object \n",
      "dtypes: float64(1), int64(1), object(4)\n",
      "memory usage: 1.2+ MB\n"
     ]
    }
   ],
   "source": [
    "imdb_data.info()"
   ]
  },
  {
   "cell_type": "markdown",
   "metadata": {
    "hidden": true
   },
   "source": [
    "**genome tags**"
   ]
  },
  {
   "cell_type": "code",
   "execution_count": 31,
   "metadata": {
    "hidden": true
   },
   "outputs": [
    {
     "data": {
      "text/html": [
       "<div>\n",
       "<style scoped>\n",
       "    .dataframe tbody tr th:only-of-type {\n",
       "        vertical-align: middle;\n",
       "    }\n",
       "\n",
       "    .dataframe tbody tr th {\n",
       "        vertical-align: top;\n",
       "    }\n",
       "\n",
       "    .dataframe thead th {\n",
       "        text-align: right;\n",
       "    }\n",
       "</style>\n",
       "<table border=\"1\" class=\"dataframe\">\n",
       "  <thead>\n",
       "    <tr style=\"text-align: right;\">\n",
       "      <th></th>\n",
       "      <th>tagId</th>\n",
       "      <th>tag</th>\n",
       "    </tr>\n",
       "  </thead>\n",
       "  <tbody>\n",
       "    <tr>\n",
       "      <th>0</th>\n",
       "      <td>1</td>\n",
       "      <td>007</td>\n",
       "    </tr>\n",
       "    <tr>\n",
       "      <th>1</th>\n",
       "      <td>2</td>\n",
       "      <td>007 (series)</td>\n",
       "    </tr>\n",
       "    <tr>\n",
       "      <th>2</th>\n",
       "      <td>3</td>\n",
       "      <td>18th century</td>\n",
       "    </tr>\n",
       "    <tr>\n",
       "      <th>3</th>\n",
       "      <td>4</td>\n",
       "      <td>1920s</td>\n",
       "    </tr>\n",
       "    <tr>\n",
       "      <th>4</th>\n",
       "      <td>5</td>\n",
       "      <td>1930s</td>\n",
       "    </tr>\n",
       "  </tbody>\n",
       "</table>\n",
       "</div>"
      ],
      "text/plain": [
       "   tagId           tag\n",
       "0      1           007\n",
       "1      2  007 (series)\n",
       "2      3  18th century\n",
       "3      4         1920s\n",
       "4      5         1930s"
      ]
     },
     "execution_count": 31,
     "metadata": {},
     "output_type": "execute_result"
    }
   ],
   "source": [
    "genome_tags.head()"
   ]
  },
  {
   "cell_type": "code",
   "execution_count": 32,
   "metadata": {
    "hidden": true
   },
   "outputs": [
    {
     "name": "stdout",
     "output_type": "stream",
     "text": [
      "<class 'pandas.core.frame.DataFrame'>\n",
      "RangeIndex: 1128 entries, 0 to 1127\n",
      "Data columns (total 2 columns):\n",
      " #   Column  Non-Null Count  Dtype \n",
      "---  ------  --------------  ----- \n",
      " 0   tagId   1128 non-null   int64 \n",
      " 1   tag     1128 non-null   object\n",
      "dtypes: int64(1), object(1)\n",
      "memory usage: 17.8+ KB\n"
     ]
    }
   ],
   "source": [
    "genome_tags.info()"
   ]
  },
  {
   "cell_type": "markdown",
   "metadata": {
    "hidden": true
   },
   "source": [
    "**tags**"
   ]
  },
  {
   "cell_type": "code",
   "execution_count": 34,
   "metadata": {
    "hidden": true
   },
   "outputs": [
    {
     "data": {
      "text/html": [
       "<div>\n",
       "<style scoped>\n",
       "    .dataframe tbody tr th:only-of-type {\n",
       "        vertical-align: middle;\n",
       "    }\n",
       "\n",
       "    .dataframe tbody tr th {\n",
       "        vertical-align: top;\n",
       "    }\n",
       "\n",
       "    .dataframe thead th {\n",
       "        text-align: right;\n",
       "    }\n",
       "</style>\n",
       "<table border=\"1\" class=\"dataframe\">\n",
       "  <thead>\n",
       "    <tr style=\"text-align: right;\">\n",
       "      <th></th>\n",
       "      <th>userId</th>\n",
       "      <th>movieId</th>\n",
       "      <th>tag</th>\n",
       "      <th>timestamp</th>\n",
       "    </tr>\n",
       "  </thead>\n",
       "  <tbody>\n",
       "    <tr>\n",
       "      <th>0</th>\n",
       "      <td>3</td>\n",
       "      <td>260</td>\n",
       "      <td>classic</td>\n",
       "      <td>1439472355</td>\n",
       "    </tr>\n",
       "    <tr>\n",
       "      <th>1</th>\n",
       "      <td>3</td>\n",
       "      <td>260</td>\n",
       "      <td>sci-fi</td>\n",
       "      <td>1439472256</td>\n",
       "    </tr>\n",
       "    <tr>\n",
       "      <th>2</th>\n",
       "      <td>4</td>\n",
       "      <td>1732</td>\n",
       "      <td>dark comedy</td>\n",
       "      <td>1573943598</td>\n",
       "    </tr>\n",
       "    <tr>\n",
       "      <th>3</th>\n",
       "      <td>4</td>\n",
       "      <td>1732</td>\n",
       "      <td>great dialogue</td>\n",
       "      <td>1573943604</td>\n",
       "    </tr>\n",
       "    <tr>\n",
       "      <th>4</th>\n",
       "      <td>4</td>\n",
       "      <td>7569</td>\n",
       "      <td>so bad it's good</td>\n",
       "      <td>1573943455</td>\n",
       "    </tr>\n",
       "  </tbody>\n",
       "</table>\n",
       "</div>"
      ],
      "text/plain": [
       "   userId  movieId               tag   timestamp\n",
       "0       3      260           classic  1439472355\n",
       "1       3      260            sci-fi  1439472256\n",
       "2       4     1732       dark comedy  1573943598\n",
       "3       4     1732    great dialogue  1573943604\n",
       "4       4     7569  so bad it's good  1573943455"
      ]
     },
     "execution_count": 34,
     "metadata": {},
     "output_type": "execute_result"
    }
   ],
   "source": [
    "tags.head()"
   ]
  },
  {
   "cell_type": "code",
   "execution_count": 36,
   "metadata": {
    "hidden": true
   },
   "outputs": [
    {
     "name": "stdout",
     "output_type": "stream",
     "text": [
      "<class 'pandas.core.frame.DataFrame'>\n",
      "RangeIndex: 1093360 entries, 0 to 1093359\n",
      "Data columns (total 4 columns):\n",
      " #   Column     Non-Null Count    Dtype \n",
      "---  ------     --------------    ----- \n",
      " 0   userId     1093360 non-null  int64 \n",
      " 1   movieId    1093360 non-null  int64 \n",
      " 2   tag        1093344 non-null  object\n",
      " 3   timestamp  1093360 non-null  int64 \n",
      "dtypes: int64(3), object(1)\n",
      "memory usage: 33.4+ MB\n"
     ]
    }
   ],
   "source": [
    "tags.info()"
   ]
  },
  {
   "cell_type": "markdown",
   "metadata": {
    "heading_collapsed": true
   },
   "source": [
    "## 4. Data Preprocessing\n",
    "<a id='Data_clean'></a>\n",
    "[Back to Table of Contents](#Table_Contents) "
   ]
  },
  {
   "cell_type": "markdown",
   "metadata": {
    "hidden": true
   },
   "source": [
    "In this step we will attempt at learning more about our features and performing appropriate preprocessing steps to arrive at a form that is more suitable for analysis.<br>\n",
    "We will also be merging the relevant datasets to help us accquire a more robust set on which we eda can be performed."
   ]
  },
  {
   "cell_type": "markdown",
   "metadata": {
    "hidden": true
   },
   "source": [
    "<font size=\"4\"><b>Extracting movie years from title</b></font><br><br>\n",
    "Looking at the **Title column in movies.csv**, we can see that years appear as part of the title. We will then separate years from titles and create a new column for **Year**. We will then be able to analyse movies by year of release."
   ]
  },
  {
   "cell_type": "code",
   "execution_count": 41,
   "metadata": {
    "hidden": true
   },
   "outputs": [],
   "source": [
    "#Remove Years from titles and create a separate year column\n",
    "movies['year'] = movies.title.str.extract('(\\(\\d\\d\\d\\d\\))',expand=False)\n",
    "movies['year'] = movies.year.str.extract('(\\d\\d\\d\\d)',expand=False)"
   ]
  },
  {
   "cell_type": "code",
   "execution_count": 42,
   "metadata": {
    "hidden": true
   },
   "outputs": [
    {
     "data": {
      "text/html": [
       "<div>\n",
       "<style scoped>\n",
       "    .dataframe tbody tr th:only-of-type {\n",
       "        vertical-align: middle;\n",
       "    }\n",
       "\n",
       "    .dataframe tbody tr th {\n",
       "        vertical-align: top;\n",
       "    }\n",
       "\n",
       "    .dataframe thead th {\n",
       "        text-align: right;\n",
       "    }\n",
       "</style>\n",
       "<table border=\"1\" class=\"dataframe\">\n",
       "  <thead>\n",
       "    <tr style=\"text-align: right;\">\n",
       "      <th></th>\n",
       "      <th>movieId</th>\n",
       "      <th>title</th>\n",
       "      <th>genres</th>\n",
       "      <th>year</th>\n",
       "    </tr>\n",
       "  </thead>\n",
       "  <tbody>\n",
       "    <tr>\n",
       "      <th>0</th>\n",
       "      <td>1</td>\n",
       "      <td>Toy Story (1995)</td>\n",
       "      <td>Adventure|Animation|Children|Comedy|Fantasy</td>\n",
       "      <td>1995</td>\n",
       "    </tr>\n",
       "    <tr>\n",
       "      <th>1</th>\n",
       "      <td>2</td>\n",
       "      <td>Jumanji (1995)</td>\n",
       "      <td>Adventure|Children|Fantasy</td>\n",
       "      <td>1995</td>\n",
       "    </tr>\n",
       "    <tr>\n",
       "      <th>2</th>\n",
       "      <td>3</td>\n",
       "      <td>Grumpier Old Men (1995)</td>\n",
       "      <td>Comedy|Romance</td>\n",
       "      <td>1995</td>\n",
       "    </tr>\n",
       "    <tr>\n",
       "      <th>3</th>\n",
       "      <td>4</td>\n",
       "      <td>Waiting to Exhale (1995)</td>\n",
       "      <td>Comedy|Drama|Romance</td>\n",
       "      <td>1995</td>\n",
       "    </tr>\n",
       "    <tr>\n",
       "      <th>4</th>\n",
       "      <td>5</td>\n",
       "      <td>Father of the Bride Part II (1995)</td>\n",
       "      <td>Comedy</td>\n",
       "      <td>1995</td>\n",
       "    </tr>\n",
       "  </tbody>\n",
       "</table>\n",
       "</div>"
      ],
      "text/plain": [
       "   movieId                               title  \\\n",
       "0        1                    Toy Story (1995)   \n",
       "1        2                      Jumanji (1995)   \n",
       "2        3             Grumpier Old Men (1995)   \n",
       "3        4            Waiting to Exhale (1995)   \n",
       "4        5  Father of the Bride Part II (1995)   \n",
       "\n",
       "                                        genres  year  \n",
       "0  Adventure|Animation|Children|Comedy|Fantasy  1995  \n",
       "1                   Adventure|Children|Fantasy  1995  \n",
       "2                               Comedy|Romance  1995  \n",
       "3                         Comedy|Drama|Romance  1995  \n",
       "4                                       Comedy  1995  "
      ]
     },
     "execution_count": 42,
     "metadata": {},
     "output_type": "execute_result"
    }
   ],
   "source": [
    "movies.head()"
   ]
  },
  {
   "cell_type": "markdown",
   "metadata": {
    "hidden": true
   },
   "source": [
    "<font size=\"4\"><b>Removing the pipe '|'</b></font><br><br>\n",
    "We also can see that the genres are separated by a vertical bar, or the pipe. We will go ahead and remove this for all the given datasets."
   ]
  },
  {
   "cell_type": "code",
   "execution_count": 43,
   "metadata": {
    "hidden": true
   },
   "outputs": [],
   "source": [
    "# Split genre data into individual words.\n",
    "movies['genres'] = movies['genres'].apply(lambda x: x.replace('|',' ').lower())\n",
    "# Split title_cast data into individual words.\n",
    "imdb_data['title_cast'] = imdb_data['title_cast'].apply(lambda x: x.replace('|',' ').lower() if x == x else np.nan)\n",
    "# Split plot_keywords data into individual words.\n",
    "imdb_data['plot_keywords'] = imdb_data['plot_keywords'].apply(lambda x: x.replace('|',' ').lower() if x == x else np.nan)"
   ]
  },
  {
   "cell_type": "code",
   "execution_count": 44,
   "metadata": {
    "hidden": true
   },
   "outputs": [
    {
     "data": {
      "text/html": [
       "<div>\n",
       "<style scoped>\n",
       "    .dataframe tbody tr th:only-of-type {\n",
       "        vertical-align: middle;\n",
       "    }\n",
       "\n",
       "    .dataframe tbody tr th {\n",
       "        vertical-align: top;\n",
       "    }\n",
       "\n",
       "    .dataframe thead th {\n",
       "        text-align: right;\n",
       "    }\n",
       "</style>\n",
       "<table border=\"1\" class=\"dataframe\">\n",
       "  <thead>\n",
       "    <tr style=\"text-align: right;\">\n",
       "      <th></th>\n",
       "      <th>movieId</th>\n",
       "      <th>title</th>\n",
       "      <th>genres</th>\n",
       "      <th>year</th>\n",
       "    </tr>\n",
       "  </thead>\n",
       "  <tbody>\n",
       "    <tr>\n",
       "      <th>0</th>\n",
       "      <td>1</td>\n",
       "      <td>Toy Story (1995)</td>\n",
       "      <td>adventure animation children comedy fantasy</td>\n",
       "      <td>1995</td>\n",
       "    </tr>\n",
       "    <tr>\n",
       "      <th>1</th>\n",
       "      <td>2</td>\n",
       "      <td>Jumanji (1995)</td>\n",
       "      <td>adventure children fantasy</td>\n",
       "      <td>1995</td>\n",
       "    </tr>\n",
       "    <tr>\n",
       "      <th>2</th>\n",
       "      <td>3</td>\n",
       "      <td>Grumpier Old Men (1995)</td>\n",
       "      <td>comedy romance</td>\n",
       "      <td>1995</td>\n",
       "    </tr>\n",
       "    <tr>\n",
       "      <th>3</th>\n",
       "      <td>4</td>\n",
       "      <td>Waiting to Exhale (1995)</td>\n",
       "      <td>comedy drama romance</td>\n",
       "      <td>1995</td>\n",
       "    </tr>\n",
       "    <tr>\n",
       "      <th>4</th>\n",
       "      <td>5</td>\n",
       "      <td>Father of the Bride Part II (1995)</td>\n",
       "      <td>comedy</td>\n",
       "      <td>1995</td>\n",
       "    </tr>\n",
       "  </tbody>\n",
       "</table>\n",
       "</div>"
      ],
      "text/plain": [
       "   movieId                               title  \\\n",
       "0        1                    Toy Story (1995)   \n",
       "1        2                      Jumanji (1995)   \n",
       "2        3             Grumpier Old Men (1995)   \n",
       "3        4            Waiting to Exhale (1995)   \n",
       "4        5  Father of the Bride Part II (1995)   \n",
       "\n",
       "                                        genres  year  \n",
       "0  adventure animation children comedy fantasy  1995  \n",
       "1                   adventure children fantasy  1995  \n",
       "2                               comedy romance  1995  \n",
       "3                         comedy drama romance  1995  \n",
       "4                                       comedy  1995  "
      ]
     },
     "execution_count": 44,
     "metadata": {},
     "output_type": "execute_result"
    }
   ],
   "source": [
    "movies.head()"
   ]
  },
  {
   "cell_type": "code",
   "execution_count": 45,
   "metadata": {
    "hidden": true
   },
   "outputs": [
    {
     "data": {
      "text/html": [
       "<div>\n",
       "<style scoped>\n",
       "    .dataframe tbody tr th:only-of-type {\n",
       "        vertical-align: middle;\n",
       "    }\n",
       "\n",
       "    .dataframe tbody tr th {\n",
       "        vertical-align: top;\n",
       "    }\n",
       "\n",
       "    .dataframe thead th {\n",
       "        text-align: right;\n",
       "    }\n",
       "</style>\n",
       "<table border=\"1\" class=\"dataframe\">\n",
       "  <thead>\n",
       "    <tr style=\"text-align: right;\">\n",
       "      <th></th>\n",
       "      <th>movieId</th>\n",
       "      <th>title_cast</th>\n",
       "      <th>director</th>\n",
       "      <th>runtime</th>\n",
       "      <th>budget</th>\n",
       "      <th>plot_keywords</th>\n",
       "    </tr>\n",
       "  </thead>\n",
       "  <tbody>\n",
       "    <tr>\n",
       "      <th>0</th>\n",
       "      <td>1</td>\n",
       "      <td>tom hanks tim allen don rickles jim varney wallace shawn john ratzenberger annie potts john morris erik von detten laurie metcalf r. lee ermey sarah freeman penn jillette jack angel spencer aste</td>\n",
       "      <td>John Lasseter</td>\n",
       "      <td>81.0</td>\n",
       "      <td>$30,000,000</td>\n",
       "      <td>toy rivalry cowboy cgi animation</td>\n",
       "    </tr>\n",
       "    <tr>\n",
       "      <th>1</th>\n",
       "      <td>2</td>\n",
       "      <td>robin williams jonathan hyde kirsten dunst bradley pierce bonnie hunt bebe neuwirth david alan grier patricia clarkson adam hann-byrd laura bell bundy james handy gillian barber brandon obray cyrus thiedeke gary joseph thorup</td>\n",
       "      <td>Jonathan Hensleigh</td>\n",
       "      <td>104.0</td>\n",
       "      <td>$65,000,000</td>\n",
       "      <td>board game adventurer fight game</td>\n",
       "    </tr>\n",
       "    <tr>\n",
       "      <th>2</th>\n",
       "      <td>3</td>\n",
       "      <td>walter matthau jack lemmon sophia loren ann-margret burgess meredith daryl hannah kevin pollak katie sagona ann morgan guilbert james andelin marcus klemp max wright cheryl hawker wayne a. evenson allison levine</td>\n",
       "      <td>Mark Steven Johnson</td>\n",
       "      <td>101.0</td>\n",
       "      <td>$25,000,000</td>\n",
       "      <td>boat lake neighbor rivalry</td>\n",
       "    </tr>\n",
       "    <tr>\n",
       "      <th>3</th>\n",
       "      <td>4</td>\n",
       "      <td>whitney houston angela bassett loretta devine lela rochon gregory hines dennis haysbert mykelti williamson michael beach leon wendell pierce donald faison jeffrey d. sams jazz raycole brandon hammond kenya moore</td>\n",
       "      <td>Terry McMillan</td>\n",
       "      <td>124.0</td>\n",
       "      <td>$16,000,000</td>\n",
       "      <td>black american husband wife relationship betrayal mother son relationship</td>\n",
       "    </tr>\n",
       "    <tr>\n",
       "      <th>4</th>\n",
       "      <td>5</td>\n",
       "      <td>steve martin diane keaton martin short kimberly williams-paisley george newbern kieran culkin bd wong peter michael goetz kate mcgregor-stewart jane adams eugene levy rebecca chambers april ortiz dulcy rogers kathy anthony</td>\n",
       "      <td>Albert Hackett</td>\n",
       "      <td>106.0</td>\n",
       "      <td>$30,000,000</td>\n",
       "      <td>fatherhood doberman dog mansion</td>\n",
       "    </tr>\n",
       "  </tbody>\n",
       "</table>\n",
       "</div>"
      ],
      "text/plain": [
       "   movieId  \\\n",
       "0        1   \n",
       "1        2   \n",
       "2        3   \n",
       "3        4   \n",
       "4        5   \n",
       "\n",
       "                                                                                                                                                                                                                          title_cast  \\\n",
       "0                                 tom hanks tim allen don rickles jim varney wallace shawn john ratzenberger annie potts john morris erik von detten laurie metcalf r. lee ermey sarah freeman penn jillette jack angel spencer aste   \n",
       "1  robin williams jonathan hyde kirsten dunst bradley pierce bonnie hunt bebe neuwirth david alan grier patricia clarkson adam hann-byrd laura bell bundy james handy gillian barber brandon obray cyrus thiedeke gary joseph thorup   \n",
       "2                walter matthau jack lemmon sophia loren ann-margret burgess meredith daryl hannah kevin pollak katie sagona ann morgan guilbert james andelin marcus klemp max wright cheryl hawker wayne a. evenson allison levine   \n",
       "3                whitney houston angela bassett loretta devine lela rochon gregory hines dennis haysbert mykelti williamson michael beach leon wendell pierce donald faison jeffrey d. sams jazz raycole brandon hammond kenya moore   \n",
       "4     steve martin diane keaton martin short kimberly williams-paisley george newbern kieran culkin bd wong peter michael goetz kate mcgregor-stewart jane adams eugene levy rebecca chambers april ortiz dulcy rogers kathy anthony   \n",
       "\n",
       "              director  runtime       budget  \\\n",
       "0        John Lasseter     81.0  $30,000,000   \n",
       "1   Jonathan Hensleigh    104.0  $65,000,000   \n",
       "2  Mark Steven Johnson    101.0  $25,000,000   \n",
       "3       Terry McMillan    124.0  $16,000,000   \n",
       "4       Albert Hackett    106.0  $30,000,000   \n",
       "\n",
       "                                                               plot_keywords  \n",
       "0                                           toy rivalry cowboy cgi animation  \n",
       "1                                           board game adventurer fight game  \n",
       "2                                                 boat lake neighbor rivalry  \n",
       "3  black american husband wife relationship betrayal mother son relationship  \n",
       "4                                            fatherhood doberman dog mansion  "
      ]
     },
     "execution_count": 45,
     "metadata": {},
     "output_type": "execute_result"
    }
   ],
   "source": [
    "imdb_data.head()"
   ]
  },
  {
   "cell_type": "markdown",
   "metadata": {
    "hidden": true
   },
   "source": [
    "<font size=\"4\"><b>IMDB Data Cleaning</b></font><br><br>\n",
    "The **budget** values are assigned generic object status. We will then clean it, convert into integers and convert NaN values to 0 values to indicate absence of information."
   ]
  },
  {
   "cell_type": "code",
   "execution_count": 46,
   "metadata": {
    "hidden": true
   },
   "outputs": [],
   "source": [
    "#we remove all commas\n",
    "imdb_data['budget'] = imdb_data['budget'].str.replace(',', '')\n",
    "#we remove all currency signs like \"$\" and \"GBP\"\n",
    "imdb_data['budget'] = imdb_data['budget'].str.extract('(\\d+)', expand=False)\n",
    "#converting the feature into a float\n",
    "imdb_data['budget'] = imdb_data['budget'].astype(float)\n",
    "#removing NaN values and replacing with 0\n",
    "imdb_data['budget'] = imdb_data['budget'].replace(np.nan,0)\n",
    "#converting the feature into an integer\n",
    "imdb_data['budget'] = imdb_data['budget'].astype(int)"
   ]
  },
  {
   "cell_type": "code",
   "execution_count": 49,
   "metadata": {
    "hidden": true
   },
   "outputs": [],
   "source": [
    "#For uniformity and better utilisation on the app. \n",
    "## We will convert director names into smaller letters and drop NaN values.\n",
    "imdb_data['director'] = imdb_data['director'].apply(lambda x: x.lower() if x == x else np.nan)"
   ]
  },
  {
   "cell_type": "code",
   "execution_count": 51,
   "metadata": {
    "hidden": true
   },
   "outputs": [
    {
     "data": {
      "text/html": [
       "<div>\n",
       "<style scoped>\n",
       "    .dataframe tbody tr th:only-of-type {\n",
       "        vertical-align: middle;\n",
       "    }\n",
       "\n",
       "    .dataframe tbody tr th {\n",
       "        vertical-align: top;\n",
       "    }\n",
       "\n",
       "    .dataframe thead th {\n",
       "        text-align: right;\n",
       "    }\n",
       "</style>\n",
       "<table border=\"1\" class=\"dataframe\">\n",
       "  <thead>\n",
       "    <tr style=\"text-align: right;\">\n",
       "      <th></th>\n",
       "      <th>movieId</th>\n",
       "      <th>title_cast</th>\n",
       "      <th>director</th>\n",
       "      <th>runtime</th>\n",
       "      <th>budget</th>\n",
       "      <th>plot_keywords</th>\n",
       "    </tr>\n",
       "  </thead>\n",
       "  <tbody>\n",
       "    <tr>\n",
       "      <th>0</th>\n",
       "      <td>1</td>\n",
       "      <td>tom hanks tim allen don rickles jim varney wallace shawn john ratzenberger annie potts john morris erik von detten laurie metcalf r. lee ermey sarah freeman penn jillette jack angel spencer aste</td>\n",
       "      <td>john lasseter</td>\n",
       "      <td>81.0</td>\n",
       "      <td>30000000</td>\n",
       "      <td>toy rivalry cowboy cgi animation</td>\n",
       "    </tr>\n",
       "    <tr>\n",
       "      <th>1</th>\n",
       "      <td>2</td>\n",
       "      <td>robin williams jonathan hyde kirsten dunst bradley pierce bonnie hunt bebe neuwirth david alan grier patricia clarkson adam hann-byrd laura bell bundy james handy gillian barber brandon obray cyrus thiedeke gary joseph thorup</td>\n",
       "      <td>jonathan hensleigh</td>\n",
       "      <td>104.0</td>\n",
       "      <td>65000000</td>\n",
       "      <td>board game adventurer fight game</td>\n",
       "    </tr>\n",
       "    <tr>\n",
       "      <th>2</th>\n",
       "      <td>3</td>\n",
       "      <td>walter matthau jack lemmon sophia loren ann-margret burgess meredith daryl hannah kevin pollak katie sagona ann morgan guilbert james andelin marcus klemp max wright cheryl hawker wayne a. evenson allison levine</td>\n",
       "      <td>mark steven johnson</td>\n",
       "      <td>101.0</td>\n",
       "      <td>25000000</td>\n",
       "      <td>boat lake neighbor rivalry</td>\n",
       "    </tr>\n",
       "    <tr>\n",
       "      <th>3</th>\n",
       "      <td>4</td>\n",
       "      <td>whitney houston angela bassett loretta devine lela rochon gregory hines dennis haysbert mykelti williamson michael beach leon wendell pierce donald faison jeffrey d. sams jazz raycole brandon hammond kenya moore</td>\n",
       "      <td>terry mcmillan</td>\n",
       "      <td>124.0</td>\n",
       "      <td>16000000</td>\n",
       "      <td>black american husband wife relationship betrayal mother son relationship</td>\n",
       "    </tr>\n",
       "    <tr>\n",
       "      <th>4</th>\n",
       "      <td>5</td>\n",
       "      <td>steve martin diane keaton martin short kimberly williams-paisley george newbern kieran culkin bd wong peter michael goetz kate mcgregor-stewart jane adams eugene levy rebecca chambers april ortiz dulcy rogers kathy anthony</td>\n",
       "      <td>albert hackett</td>\n",
       "      <td>106.0</td>\n",
       "      <td>30000000</td>\n",
       "      <td>fatherhood doberman dog mansion</td>\n",
       "    </tr>\n",
       "  </tbody>\n",
       "</table>\n",
       "</div>"
      ],
      "text/plain": [
       "   movieId  \\\n",
       "0        1   \n",
       "1        2   \n",
       "2        3   \n",
       "3        4   \n",
       "4        5   \n",
       "\n",
       "                                                                                                                                                                                                                          title_cast  \\\n",
       "0                                 tom hanks tim allen don rickles jim varney wallace shawn john ratzenberger annie potts john morris erik von detten laurie metcalf r. lee ermey sarah freeman penn jillette jack angel spencer aste   \n",
       "1  robin williams jonathan hyde kirsten dunst bradley pierce bonnie hunt bebe neuwirth david alan grier patricia clarkson adam hann-byrd laura bell bundy james handy gillian barber brandon obray cyrus thiedeke gary joseph thorup   \n",
       "2                walter matthau jack lemmon sophia loren ann-margret burgess meredith daryl hannah kevin pollak katie sagona ann morgan guilbert james andelin marcus klemp max wright cheryl hawker wayne a. evenson allison levine   \n",
       "3                whitney houston angela bassett loretta devine lela rochon gregory hines dennis haysbert mykelti williamson michael beach leon wendell pierce donald faison jeffrey d. sams jazz raycole brandon hammond kenya moore   \n",
       "4     steve martin diane keaton martin short kimberly williams-paisley george newbern kieran culkin bd wong peter michael goetz kate mcgregor-stewart jane adams eugene levy rebecca chambers april ortiz dulcy rogers kathy anthony   \n",
       "\n",
       "              director  runtime    budget  \\\n",
       "0        john lasseter     81.0  30000000   \n",
       "1   jonathan hensleigh    104.0  65000000   \n",
       "2  mark steven johnson    101.0  25000000   \n",
       "3       terry mcmillan    124.0  16000000   \n",
       "4       albert hackett    106.0  30000000   \n",
       "\n",
       "                                                               plot_keywords  \n",
       "0                                           toy rivalry cowboy cgi animation  \n",
       "1                                           board game adventurer fight game  \n",
       "2                                                 boat lake neighbor rivalry  \n",
       "3  black american husband wife relationship betrayal mother son relationship  \n",
       "4                                            fatherhood doberman dog mansion  "
      ]
     },
     "execution_count": 51,
     "metadata": {},
     "output_type": "execute_result"
    }
   ],
   "source": [
    "imdb_data.head()"
   ]
  },
  {
   "cell_type": "markdown",
   "metadata": {
    "hidden": true
   },
   "source": [
    "<font size=\"4\"><b>Merging Movies and IMDB data</b></font><br><br>\n",
    "From just looking at our data, it looks like we will be using **Movies** and **IMDB** data a lot. So, it makes sense to join the two datasets."
   ]
  },
  {
   "cell_type": "code",
   "execution_count": 52,
   "metadata": {
    "hidden": true
   },
   "outputs": [
    {
     "data": {
      "text/html": [
       "<div>\n",
       "<style scoped>\n",
       "    .dataframe tbody tr th:only-of-type {\n",
       "        vertical-align: middle;\n",
       "    }\n",
       "\n",
       "    .dataframe tbody tr th {\n",
       "        vertical-align: top;\n",
       "    }\n",
       "\n",
       "    .dataframe thead th {\n",
       "        text-align: right;\n",
       "    }\n",
       "</style>\n",
       "<table border=\"1\" class=\"dataframe\">\n",
       "  <thead>\n",
       "    <tr style=\"text-align: right;\">\n",
       "      <th></th>\n",
       "      <th>movieId</th>\n",
       "      <th>title</th>\n",
       "      <th>genres</th>\n",
       "      <th>year</th>\n",
       "      <th>title_cast</th>\n",
       "      <th>director</th>\n",
       "      <th>runtime</th>\n",
       "      <th>budget</th>\n",
       "      <th>plot_keywords</th>\n",
       "    </tr>\n",
       "  </thead>\n",
       "  <tbody>\n",
       "    <tr>\n",
       "      <th>0</th>\n",
       "      <td>1</td>\n",
       "      <td>Toy Story (1995)</td>\n",
       "      <td>adventure animation children comedy fantasy</td>\n",
       "      <td>1995</td>\n",
       "      <td>tom hanks tim allen don rickles jim varney wallace shawn john ratzenberger annie potts john morris erik von detten laurie metcalf r. lee ermey sarah freeman penn jillette jack angel spencer aste</td>\n",
       "      <td>john lasseter</td>\n",
       "      <td>81.0</td>\n",
       "      <td>30000000.0</td>\n",
       "      <td>toy rivalry cowboy cgi animation</td>\n",
       "    </tr>\n",
       "    <tr>\n",
       "      <th>1</th>\n",
       "      <td>2</td>\n",
       "      <td>Jumanji (1995)</td>\n",
       "      <td>adventure children fantasy</td>\n",
       "      <td>1995</td>\n",
       "      <td>robin williams jonathan hyde kirsten dunst bradley pierce bonnie hunt bebe neuwirth david alan grier patricia clarkson adam hann-byrd laura bell bundy james handy gillian barber brandon obray cyrus thiedeke gary joseph thorup</td>\n",
       "      <td>jonathan hensleigh</td>\n",
       "      <td>104.0</td>\n",
       "      <td>65000000.0</td>\n",
       "      <td>board game adventurer fight game</td>\n",
       "    </tr>\n",
       "    <tr>\n",
       "      <th>2</th>\n",
       "      <td>3</td>\n",
       "      <td>Grumpier Old Men (1995)</td>\n",
       "      <td>comedy romance</td>\n",
       "      <td>1995</td>\n",
       "      <td>walter matthau jack lemmon sophia loren ann-margret burgess meredith daryl hannah kevin pollak katie sagona ann morgan guilbert james andelin marcus klemp max wright cheryl hawker wayne a. evenson allison levine</td>\n",
       "      <td>mark steven johnson</td>\n",
       "      <td>101.0</td>\n",
       "      <td>25000000.0</td>\n",
       "      <td>boat lake neighbor rivalry</td>\n",
       "    </tr>\n",
       "    <tr>\n",
       "      <th>3</th>\n",
       "      <td>4</td>\n",
       "      <td>Waiting to Exhale (1995)</td>\n",
       "      <td>comedy drama romance</td>\n",
       "      <td>1995</td>\n",
       "      <td>whitney houston angela bassett loretta devine lela rochon gregory hines dennis haysbert mykelti williamson michael beach leon wendell pierce donald faison jeffrey d. sams jazz raycole brandon hammond kenya moore</td>\n",
       "      <td>terry mcmillan</td>\n",
       "      <td>124.0</td>\n",
       "      <td>16000000.0</td>\n",
       "      <td>black american husband wife relationship betrayal mother son relationship</td>\n",
       "    </tr>\n",
       "    <tr>\n",
       "      <th>4</th>\n",
       "      <td>5</td>\n",
       "      <td>Father of the Bride Part II (1995)</td>\n",
       "      <td>comedy</td>\n",
       "      <td>1995</td>\n",
       "      <td>steve martin diane keaton martin short kimberly williams-paisley george newbern kieran culkin bd wong peter michael goetz kate mcgregor-stewart jane adams eugene levy rebecca chambers april ortiz dulcy rogers kathy anthony</td>\n",
       "      <td>albert hackett</td>\n",
       "      <td>106.0</td>\n",
       "      <td>30000000.0</td>\n",
       "      <td>fatherhood doberman dog mansion</td>\n",
       "    </tr>\n",
       "  </tbody>\n",
       "</table>\n",
       "</div>"
      ],
      "text/plain": [
       "   movieId                               title  \\\n",
       "0        1                    Toy Story (1995)   \n",
       "1        2                      Jumanji (1995)   \n",
       "2        3             Grumpier Old Men (1995)   \n",
       "3        4            Waiting to Exhale (1995)   \n",
       "4        5  Father of the Bride Part II (1995)   \n",
       "\n",
       "                                        genres  year  \\\n",
       "0  adventure animation children comedy fantasy  1995   \n",
       "1                   adventure children fantasy  1995   \n",
       "2                               comedy romance  1995   \n",
       "3                         comedy drama romance  1995   \n",
       "4                                       comedy  1995   \n",
       "\n",
       "                                                                                                                                                                                                                          title_cast  \\\n",
       "0                                 tom hanks tim allen don rickles jim varney wallace shawn john ratzenberger annie potts john morris erik von detten laurie metcalf r. lee ermey sarah freeman penn jillette jack angel spencer aste   \n",
       "1  robin williams jonathan hyde kirsten dunst bradley pierce bonnie hunt bebe neuwirth david alan grier patricia clarkson adam hann-byrd laura bell bundy james handy gillian barber brandon obray cyrus thiedeke gary joseph thorup   \n",
       "2                walter matthau jack lemmon sophia loren ann-margret burgess meredith daryl hannah kevin pollak katie sagona ann morgan guilbert james andelin marcus klemp max wright cheryl hawker wayne a. evenson allison levine   \n",
       "3                whitney houston angela bassett loretta devine lela rochon gregory hines dennis haysbert mykelti williamson michael beach leon wendell pierce donald faison jeffrey d. sams jazz raycole brandon hammond kenya moore   \n",
       "4     steve martin diane keaton martin short kimberly williams-paisley george newbern kieran culkin bd wong peter michael goetz kate mcgregor-stewart jane adams eugene levy rebecca chambers april ortiz dulcy rogers kathy anthony   \n",
       "\n",
       "              director  runtime      budget  \\\n",
       "0        john lasseter     81.0  30000000.0   \n",
       "1   jonathan hensleigh    104.0  65000000.0   \n",
       "2  mark steven johnson    101.0  25000000.0   \n",
       "3       terry mcmillan    124.0  16000000.0   \n",
       "4       albert hackett    106.0  30000000.0   \n",
       "\n",
       "                                                               plot_keywords  \n",
       "0                                           toy rivalry cowboy cgi animation  \n",
       "1                                           board game adventurer fight game  \n",
       "2                                                 boat lake neighbor rivalry  \n",
       "3  black american husband wife relationship betrayal mother son relationship  \n",
       "4                                            fatherhood doberman dog mansion  "
      ]
     },
     "execution_count": 52,
     "metadata": {},
     "output_type": "execute_result"
    }
   ],
   "source": [
    "# This join makes sure imdb is added to movies and all movie rows are kept\n",
    "movies_imdb = movies.join(imdb_data.set_index('movieId'),on='movieId')\n",
    "movies_imdb.head()"
   ]
  },
  {
   "cell_type": "markdown",
   "metadata": {
    "hidden": true
   },
   "source": [
    "We now have a a dataframe that has almost all the columns that we need to start our **EDA**."
   ]
  },
  {
   "cell_type": "markdown",
   "metadata": {
    "hidden": true
   },
   "source": [
    "<font size=\"4\"><b>Merging Movies,IMDB data and ratings(train)</b></font><br><br>\n",
    "Upon further look we realised that we are missing one of the key features used when considering or recommending a movie. It will definitely help to have ratings of each film!"
   ]
  },
  {
   "cell_type": "code",
   "execution_count": 54,
   "metadata": {
    "hidden": true
   },
   "outputs": [
    {
     "data": {
      "text/html": [
       "<div>\n",
       "<style scoped>\n",
       "    .dataframe tbody tr th:only-of-type {\n",
       "        vertical-align: middle;\n",
       "    }\n",
       "\n",
       "    .dataframe tbody tr th {\n",
       "        vertical-align: top;\n",
       "    }\n",
       "\n",
       "    .dataframe thead th {\n",
       "        text-align: right;\n",
       "    }\n",
       "</style>\n",
       "<table border=\"1\" class=\"dataframe\">\n",
       "  <thead>\n",
       "    <tr style=\"text-align: right;\">\n",
       "      <th></th>\n",
       "      <th>userId</th>\n",
       "      <th>movieId</th>\n",
       "      <th>rating</th>\n",
       "    </tr>\n",
       "  </thead>\n",
       "  <tbody>\n",
       "    <tr>\n",
       "      <th>0</th>\n",
       "      <td>5163</td>\n",
       "      <td>57669</td>\n",
       "      <td>4.0</td>\n",
       "    </tr>\n",
       "    <tr>\n",
       "      <th>1</th>\n",
       "      <td>106343</td>\n",
       "      <td>5</td>\n",
       "      <td>4.5</td>\n",
       "    </tr>\n",
       "    <tr>\n",
       "      <th>2</th>\n",
       "      <td>146790</td>\n",
       "      <td>5459</td>\n",
       "      <td>5.0</td>\n",
       "    </tr>\n",
       "    <tr>\n",
       "      <th>3</th>\n",
       "      <td>106362</td>\n",
       "      <td>32296</td>\n",
       "      <td>2.0</td>\n",
       "    </tr>\n",
       "    <tr>\n",
       "      <th>4</th>\n",
       "      <td>9041</td>\n",
       "      <td>366</td>\n",
       "      <td>3.0</td>\n",
       "    </tr>\n",
       "  </tbody>\n",
       "</table>\n",
       "</div>"
      ],
      "text/plain": [
       "   userId  movieId  rating\n",
       "0    5163    57669     4.0\n",
       "1  106343        5     4.5\n",
       "2  146790     5459     5.0\n",
       "3  106362    32296     2.0\n",
       "4    9041      366     3.0"
      ]
     },
     "execution_count": 54,
     "metadata": {},
     "output_type": "execute_result"
    }
   ],
   "source": [
    "#We are not planning to utilise timestamp so we will drop this column.\n",
    "ratings = train.drop(columns=['timestamp'])\n",
    "ratings.head()"
   ]
  },
  {
   "cell_type": "code",
   "execution_count": 55,
   "metadata": {
    "hidden": true
   },
   "outputs": [],
   "source": [
    "#Merge train and movies to get ratings\n",
    "df = ratings.join(movies_imdb.set_index('movieId'),on = 'movieId')"
   ]
  },
  {
   "cell_type": "code",
   "execution_count": 56,
   "metadata": {
    "hidden": true
   },
   "outputs": [
    {
     "data": {
      "text/html": [
       "<div>\n",
       "<style scoped>\n",
       "    .dataframe tbody tr th:only-of-type {\n",
       "        vertical-align: middle;\n",
       "    }\n",
       "\n",
       "    .dataframe tbody tr th {\n",
       "        vertical-align: top;\n",
       "    }\n",
       "\n",
       "    .dataframe thead th {\n",
       "        text-align: right;\n",
       "    }\n",
       "</style>\n",
       "<table border=\"1\" class=\"dataframe\">\n",
       "  <thead>\n",
       "    <tr style=\"text-align: right;\">\n",
       "      <th></th>\n",
       "      <th>userId</th>\n",
       "      <th>movieId</th>\n",
       "      <th>rating</th>\n",
       "      <th>title</th>\n",
       "      <th>genres</th>\n",
       "      <th>year</th>\n",
       "      <th>title_cast</th>\n",
       "      <th>director</th>\n",
       "      <th>runtime</th>\n",
       "      <th>budget</th>\n",
       "      <th>plot_keywords</th>\n",
       "    </tr>\n",
       "  </thead>\n",
       "  <tbody>\n",
       "    <tr>\n",
       "      <th>0</th>\n",
       "      <td>5163</td>\n",
       "      <td>57669</td>\n",
       "      <td>4.0</td>\n",
       "      <td>In Bruges (2008)</td>\n",
       "      <td>comedy crime drama thriller</td>\n",
       "      <td>2008</td>\n",
       "      <td>elizabeth berrington rudy blomme olivier bonjour mark donovan ann elsley colin farrell jean-marc favorin ralph fiennes brendan gleeson eric godon zeljko ivanek sachi kimura anna madeley louis nummy clémence poésy</td>\n",
       "      <td>martin mcdonagh</td>\n",
       "      <td>107.0</td>\n",
       "      <td>15000000.0</td>\n",
       "      <td>dwarf bruges irish hitman</td>\n",
       "    </tr>\n",
       "    <tr>\n",
       "      <th>1</th>\n",
       "      <td>106343</td>\n",
       "      <td>5</td>\n",
       "      <td>4.5</td>\n",
       "      <td>Father of the Bride Part II (1995)</td>\n",
       "      <td>comedy</td>\n",
       "      <td>1995</td>\n",
       "      <td>steve martin diane keaton martin short kimberly williams-paisley george newbern kieran culkin bd wong peter michael goetz kate mcgregor-stewart jane adams eugene levy rebecca chambers april ortiz dulcy rogers kathy anthony</td>\n",
       "      <td>albert hackett</td>\n",
       "      <td>106.0</td>\n",
       "      <td>30000000.0</td>\n",
       "      <td>fatherhood doberman dog mansion</td>\n",
       "    </tr>\n",
       "    <tr>\n",
       "      <th>2</th>\n",
       "      <td>146790</td>\n",
       "      <td>5459</td>\n",
       "      <td>5.0</td>\n",
       "      <td>Men in Black II (a.k.a. MIIB) (a.k.a. MIB 2) (2002)</td>\n",
       "      <td>action comedy sci-fi</td>\n",
       "      <td>2002</td>\n",
       "      <td>tommy lee jones will smith rip torn lara flynn boyle johnny knoxville rosario dawson tony shalhoub patrick warburton jack kehler david cross colombe jacobsen-derstine peter spellos michael rivkin michael bailey smith lenny venito</td>\n",
       "      <td>lowell cunningham</td>\n",
       "      <td>88.0</td>\n",
       "      <td>140000000.0</td>\n",
       "      <td>lingerie michael jackson character shorthaired woman calzone</td>\n",
       "    </tr>\n",
       "    <tr>\n",
       "      <th>3</th>\n",
       "      <td>106362</td>\n",
       "      <td>32296</td>\n",
       "      <td>2.0</td>\n",
       "      <td>Miss Congeniality 2: Armed and Fabulous (2005)</td>\n",
       "      <td>adventure comedy crime</td>\n",
       "      <td>2005</td>\n",
       "      <td>sandra bullock regina king enrique murciano william shatner ernie hudson heather burns diedrich bader treat williams abraham benrubi nick offerman eileen brennan elisabeth röhm leslie grossman lusia strus molly gottlieb</td>\n",
       "      <td>marc lawrence</td>\n",
       "      <td>115.0</td>\n",
       "      <td>45000000.0</td>\n",
       "      <td>female protagonist cleave gag good woman fbi</td>\n",
       "    </tr>\n",
       "    <tr>\n",
       "      <th>4</th>\n",
       "      <td>9041</td>\n",
       "      <td>366</td>\n",
       "      <td>3.0</td>\n",
       "      <td>Wes Craven's New Nightmare (Nightmare on Elm Street Part 7: Freddy's Finale, A) (1994)</td>\n",
       "      <td>drama horror mystery thriller</td>\n",
       "      <td>1994</td>\n",
       "      <td>jeff davis heather langenkamp miko hughes matt winston rob labelle david newsom wes craven marianne maddalena gretchen oehler tracy middendorf cully fredricksen bodhi elfman sam rubin robert englund claudia haro</td>\n",
       "      <td>wes craven</td>\n",
       "      <td>112.0</td>\n",
       "      <td>8000000.0</td>\n",
       "      <td>freddy krueger elm street famous director as himself alternate reality</td>\n",
       "    </tr>\n",
       "  </tbody>\n",
       "</table>\n",
       "</div>"
      ],
      "text/plain": [
       "   userId  movieId  rating  \\\n",
       "0    5163    57669     4.0   \n",
       "1  106343        5     4.5   \n",
       "2  146790     5459     5.0   \n",
       "3  106362    32296     2.0   \n",
       "4    9041      366     3.0   \n",
       "\n",
       "                                                                                    title  \\\n",
       "0                                                                        In Bruges (2008)   \n",
       "1                                                      Father of the Bride Part II (1995)   \n",
       "2                                     Men in Black II (a.k.a. MIIB) (a.k.a. MIB 2) (2002)   \n",
       "3                                          Miss Congeniality 2: Armed and Fabulous (2005)   \n",
       "4  Wes Craven's New Nightmare (Nightmare on Elm Street Part 7: Freddy's Finale, A) (1994)   \n",
       "\n",
       "                          genres  year  \\\n",
       "0    comedy crime drama thriller  2008   \n",
       "1                         comedy  1995   \n",
       "2           action comedy sci-fi  2002   \n",
       "3         adventure comedy crime  2005   \n",
       "4  drama horror mystery thriller  1994   \n",
       "\n",
       "                                                                                                                                                                                                                              title_cast  \\\n",
       "0                   elizabeth berrington rudy blomme olivier bonjour mark donovan ann elsley colin farrell jean-marc favorin ralph fiennes brendan gleeson eric godon zeljko ivanek sachi kimura anna madeley louis nummy clémence poésy   \n",
       "1         steve martin diane keaton martin short kimberly williams-paisley george newbern kieran culkin bd wong peter michael goetz kate mcgregor-stewart jane adams eugene levy rebecca chambers april ortiz dulcy rogers kathy anthony   \n",
       "2  tommy lee jones will smith rip torn lara flynn boyle johnny knoxville rosario dawson tony shalhoub patrick warburton jack kehler david cross colombe jacobsen-derstine peter spellos michael rivkin michael bailey smith lenny venito   \n",
       "3            sandra bullock regina king enrique murciano william shatner ernie hudson heather burns diedrich bader treat williams abraham benrubi nick offerman eileen brennan elisabeth röhm leslie grossman lusia strus molly gottlieb   \n",
       "4                    jeff davis heather langenkamp miko hughes matt winston rob labelle david newsom wes craven marianne maddalena gretchen oehler tracy middendorf cully fredricksen bodhi elfman sam rubin robert englund claudia haro   \n",
       "\n",
       "            director  runtime       budget  \\\n",
       "0    martin mcdonagh    107.0   15000000.0   \n",
       "1     albert hackett    106.0   30000000.0   \n",
       "2  lowell cunningham     88.0  140000000.0   \n",
       "3      marc lawrence    115.0   45000000.0   \n",
       "4         wes craven    112.0    8000000.0   \n",
       "\n",
       "                                                            plot_keywords  \n",
       "0                                               dwarf bruges irish hitman  \n",
       "1                                         fatherhood doberman dog mansion  \n",
       "2            lingerie michael jackson character shorthaired woman calzone  \n",
       "3                            female protagonist cleave gag good woman fbi  \n",
       "4  freddy krueger elm street famous director as himself alternate reality  "
      ]
     },
     "execution_count": 56,
     "metadata": {},
     "output_type": "execute_result"
    }
   ],
   "source": [
    "df.head()"
   ]
  },
  {
   "cell_type": "code",
   "execution_count": 57,
   "metadata": {
    "hidden": true
   },
   "outputs": [
    {
     "name": "stdout",
     "output_type": "stream",
     "text": [
      "True 10000038 == 10000038\n"
     ]
    }
   ],
   "source": [
    "#We compare the length of our ratings data to that of ratings to ensure that we have all the data.\n",
    "print(len(ratings) == len(df),len(ratings) ,'==',len(df))"
   ]
  },
  {
   "cell_type": "markdown",
   "metadata": {
    "heading_collapsed": true
   },
   "source": [
    "## 4.Exploratory Data Analysis (EDA) \n",
    "<a id='EDA'></a>\n",
    "[Back to Table of Contents](#Table_Contents)"
   ]
  },
  {
   "cell_type": "markdown",
   "metadata": {
    "hidden": true
   },
   "source": [
    "<font size=\"4\"><b>Title and Overview Wordclouds</b></font><br><br>\n",
    "We will have a look at the title and the given plot words to determine if there are recurring words or words that are more common in both the way movies get titles and also how movies tend to be described."
   ]
  },
  {
   "cell_type": "code",
   "execution_count": 58,
   "metadata": {
    "hidden": true
   },
   "outputs": [
    {
     "data": {
      "text/plain": [
       "0                                                 toy rivalry cowboy cgi animation\n",
       "1                                                 board game adventurer fight game\n",
       "2                                                       boat lake neighbor rivalry\n",
       "3        black american husband wife relationship betrayal mother son relationship\n",
       "4                                                  fatherhood doberman dog mansion\n",
       "                                           ...                                    \n",
       "27273        man wrapped in a towel man wears a thong male rear nudity male nudity\n",
       "27274                             ski ski resort ampersand in title drink in title\n",
       "27275                                              pirate sword fight korea bandit\n",
       "27276                                 friend friendship television show restaurant\n",
       "27277                                                       hex witch virgin blood\n",
       "Name: plot_keywords, Length: 27278, dtype: object"
      ]
     },
     "execution_count": 58,
     "metadata": {},
     "output_type": "execute_result"
    }
   ],
   "source": [
    "movies['title'] = movies['title'].astype('str')\n",
    "plot_cloud = imdb_data.loc[:,'plot_keywords'] = imdb_data.loc[:, 'plot_keywords'].astype(str)\n",
    "plot_cloud.dropna()"
   ]
  },
  {
   "cell_type": "code",
   "execution_count": 59,
   "metadata": {
    "hidden": true
   },
   "outputs": [],
   "source": [
    "title_corpus = ' '.join(movies['title'])\n",
    "plot_corpus = ' '.join(plot_cloud)"
   ]
  },
  {
   "cell_type": "code",
   "execution_count": 60,
   "metadata": {
    "hidden": true
   },
   "outputs": [
    {
     "data": {
      "image/png": "[encoded data removed]",
      "text/plain": [
       "<Figure size 1152x576 with 1 Axes>"
      ]
     },
     "metadata": {
      "needs_background": "light"
     },
     "output_type": "display_data"
    }
   ],
   "source": [
    "# Generate a wordcloud for the titles of movies\n",
    "title_wordcloud = WordCloud(stopwords=STOPWORDS, background_color='white', height=2000, width=4000).generate(title_corpus)\n",
    "plt.figure(figsize=(16,8))\n",
    "plt.imshow(title_wordcloud)\n",
    "plt.axis('off')\n",
    "plt.show()"
   ]
  },
  {
   "cell_type": "markdown",
   "metadata": {
    "hidden": true
   },
   "source": [
    "The word **Love** is the most commonly used word in movie titles.  **Man** is also a very common word, and this is closely followed by **Girl** which makes for an interesting thought on gender representation in film. Love is perhaps so common because romance is often present in movies of all genres."
   ]
  },
  {
   "cell_type": "code",
   "execution_count": 61,
   "metadata": {
    "hidden": true
   },
   "outputs": [
    {
     "data": {
      "image/png": "[encoded data removed]",
      "text/plain": [
       "<Figure size 1152x576 with 1 Axes>"
      ]
     },
     "metadata": {
      "needs_background": "light"
     },
     "output_type": "display_data"
    }
   ],
   "source": [
    "# Generate wordcloud for the plot keywords of movies\n",
    "plot_wordcloud = WordCloud(stopwords=STOPWORDS, background_color='white', height=2000, width=4000).generate(plot_corpus)\n",
    "plt.figure(figsize=(16,8))\n",
    "plt.imshow(plot_wordcloud)\n",
    "plt.axis('off')\n",
    "plt.show()"
   ]
  },
  {
   "cell_type": "markdown",
   "metadata": {
    "hidden": true
   },
   "source": [
    "Looking at the plot keywords, there seems to be a lot of emphasis on **nudity**. When it comes to locations, **New York** is the popular city. **reference, character, female, rated, murder and word title** are other words that pop out. "
   ]
  },
  {
   "cell_type": "markdown",
   "metadata": {
    "hidden": true
   },
   "source": [
    "<font size=\"4\"><b>Rating Average and Count</b></font><br><br>\n",
    "We will have a look at the title and the given plot words to determine if there are recurring words or words that are more common in both the way movies get titles and also how movies tend to be described."
   ]
  },
  {
   "cell_type": "code",
   "execution_count": 62,
   "metadata": {
    "hidden": true
   },
   "outputs": [
    {
     "data": {
      "text/html": [
       "<div>\n",
       "<style scoped>\n",
       "    .dataframe tbody tr th:only-of-type {\n",
       "        vertical-align: middle;\n",
       "    }\n",
       "\n",
       "    .dataframe tbody tr th {\n",
       "        vertical-align: top;\n",
       "    }\n",
       "\n",
       "    .dataframe thead th {\n",
       "        text-align: right;\n",
       "    }\n",
       "</style>\n",
       "<table border=\"1\" class=\"dataframe\">\n",
       "  <thead>\n",
       "    <tr style=\"text-align: right;\">\n",
       "      <th></th>\n",
       "      <th>userId</th>\n",
       "      <th>movieId</th>\n",
       "      <th>rating</th>\n",
       "      <th>genres</th>\n",
       "      <th>year</th>\n",
       "      <th>title_cast</th>\n",
       "      <th>director</th>\n",
       "      <th>runtime</th>\n",
       "      <th>budget</th>\n",
       "      <th>plot_keywords</th>\n",
       "    </tr>\n",
       "    <tr>\n",
       "      <th>title</th>\n",
       "      <th></th>\n",
       "      <th></th>\n",
       "      <th></th>\n",
       "      <th></th>\n",
       "      <th></th>\n",
       "      <th></th>\n",
       "      <th></th>\n",
       "      <th></th>\n",
       "      <th></th>\n",
       "      <th></th>\n",
       "    </tr>\n",
       "  </thead>\n",
       "  <tbody>\n",
       "    <tr>\n",
       "      <th>\"BLOW THE NIGHT!\" Let's Spend the Night Together (1983)</th>\n",
       "      <td>1</td>\n",
       "      <td>1</td>\n",
       "      <td>1</td>\n",
       "      <td>1</td>\n",
       "      <td>1</td>\n",
       "      <td>0</td>\n",
       "      <td>0</td>\n",
       "      <td>0</td>\n",
       "      <td>0</td>\n",
       "      <td>0</td>\n",
       "    </tr>\n",
       "    <tr>\n",
       "      <th>\"Great Performances\" Cats (1998)</th>\n",
       "      <td>67</td>\n",
       "      <td>67</td>\n",
       "      <td>67</td>\n",
       "      <td>67</td>\n",
       "      <td>67</td>\n",
       "      <td>67</td>\n",
       "      <td>67</td>\n",
       "      <td>67</td>\n",
       "      <td>67</td>\n",
       "      <td>67</td>\n",
       "    </tr>\n",
       "    <tr>\n",
       "      <th>#1 Cheerleader Camp (2010)</th>\n",
       "      <td>5</td>\n",
       "      <td>5</td>\n",
       "      <td>5</td>\n",
       "      <td>5</td>\n",
       "      <td>5</td>\n",
       "      <td>0</td>\n",
       "      <td>0</td>\n",
       "      <td>0</td>\n",
       "      <td>0</td>\n",
       "      <td>0</td>\n",
       "    </tr>\n",
       "    <tr>\n",
       "      <th>#Female Pleasure (2018)</th>\n",
       "      <td>1</td>\n",
       "      <td>1</td>\n",
       "      <td>1</td>\n",
       "      <td>1</td>\n",
       "      <td>1</td>\n",
       "      <td>0</td>\n",
       "      <td>0</td>\n",
       "      <td>0</td>\n",
       "      <td>0</td>\n",
       "      <td>0</td>\n",
       "    </tr>\n",
       "    <tr>\n",
       "      <th>#FollowMe (2019)</th>\n",
       "      <td>5</td>\n",
       "      <td>5</td>\n",
       "      <td>5</td>\n",
       "      <td>5</td>\n",
       "      <td>5</td>\n",
       "      <td>0</td>\n",
       "      <td>0</td>\n",
       "      <td>0</td>\n",
       "      <td>0</td>\n",
       "      <td>0</td>\n",
       "    </tr>\n",
       "  </tbody>\n",
       "</table>\n",
       "</div>"
      ],
      "text/plain": [
       "                                                         userId  movieId  \\\n",
       "title                                                                      \n",
       "\"BLOW THE NIGHT!\" Let's Spend the Night Together (1983)       1        1   \n",
       "\"Great Performances\" Cats (1998)                             67       67   \n",
       "#1 Cheerleader Camp (2010)                                    5        5   \n",
       "#Female Pleasure (2018)                                       1        1   \n",
       "#FollowMe (2019)                                              5        5   \n",
       "\n",
       "                                                         rating  genres  year  \\\n",
       "title                                                                           \n",
       "\"BLOW THE NIGHT!\" Let's Spend the Night Together (1983)       1       1     1   \n",
       "\"Great Performances\" Cats (1998)                             67      67    67   \n",
       "#1 Cheerleader Camp (2010)                                    5       5     5   \n",
       "#Female Pleasure (2018)                                       1       1     1   \n",
       "#FollowMe (2019)                                              5       5     5   \n",
       "\n",
       "                                                         title_cast  director  \\\n",
       "title                                                                           \n",
       "\"BLOW THE NIGHT!\" Let's Spend the Night Together (1983)           0         0   \n",
       "\"Great Performances\" Cats (1998)                                 67        67   \n",
       "#1 Cheerleader Camp (2010)                                        0         0   \n",
       "#Female Pleasure (2018)                                           0         0   \n",
       "#FollowMe (2019)                                                  0         0   \n",
       "\n",
       "                                                         runtime  budget  \\\n",
       "title                                                                      \n",
       "\"BLOW THE NIGHT!\" Let's Spend the Night Together (1983)        0       0   \n",
       "\"Great Performances\" Cats (1998)                              67      67   \n",
       "#1 Cheerleader Camp (2010)                                     0       0   \n",
       "#Female Pleasure (2018)                                        0       0   \n",
       "#FollowMe (2019)                                               0       0   \n",
       "\n",
       "                                                         plot_keywords  \n",
       "title                                                                   \n",
       "\"BLOW THE NIGHT!\" Let's Spend the Night Together (1983)              0  \n",
       "\"Great Performances\" Cats (1998)                                    67  \n",
       "#1 Cheerleader Camp (2010)                                           0  \n",
       "#Female Pleasure (2018)                                              0  \n",
       "#FollowMe (2019)                                                     0  "
      ]
     },
     "execution_count": 62,
     "metadata": {},
     "output_type": "execute_result"
    }
   ],
   "source": [
    "df.groupby('title').count().head()"
   ]
  },
  {
   "cell_type": "code",
   "execution_count": 65,
   "metadata": {
    "hidden": true
   },
   "outputs": [
    {
     "data": {
      "text/html": [
       "<div>\n",
       "<style scoped>\n",
       "    .dataframe tbody tr th:only-of-type {\n",
       "        vertical-align: middle;\n",
       "    }\n",
       "\n",
       "    .dataframe tbody tr th {\n",
       "        vertical-align: top;\n",
       "    }\n",
       "\n",
       "    .dataframe thead th {\n",
       "        text-align: right;\n",
       "    }\n",
       "</style>\n",
       "<table border=\"1\" class=\"dataframe\">\n",
       "  <thead>\n",
       "    <tr style=\"text-align: right;\">\n",
       "      <th></th>\n",
       "      <th>count</th>\n",
       "      <th>mean</th>\n",
       "    </tr>\n",
       "    <tr>\n",
       "      <th>title</th>\n",
       "      <th></th>\n",
       "      <th></th>\n",
       "    </tr>\n",
       "  </thead>\n",
       "  <tbody>\n",
       "    <tr>\n",
       "      <th>Shawshank Redemption, The (1994)</th>\n",
       "      <td>32831</td>\n",
       "      <td>4.417624</td>\n",
       "    </tr>\n",
       "    <tr>\n",
       "      <th>Forrest Gump (1994)</th>\n",
       "      <td>32383</td>\n",
       "      <td>4.047216</td>\n",
       "    </tr>\n",
       "    <tr>\n",
       "      <th>Pulp Fiction (1994)</th>\n",
       "      <td>31697</td>\n",
       "      <td>4.195097</td>\n",
       "    </tr>\n",
       "    <tr>\n",
       "      <th>Silence of the Lambs, The (1991)</th>\n",
       "      <td>29444</td>\n",
       "      <td>4.144172</td>\n",
       "    </tr>\n",
       "    <tr>\n",
       "      <th>Matrix, The (1999)</th>\n",
       "      <td>29014</td>\n",
       "      <td>4.154253</td>\n",
       "    </tr>\n",
       "    <tr>\n",
       "      <th>Star Wars: Episode IV - A New Hope (1977)</th>\n",
       "      <td>27560</td>\n",
       "      <td>4.111811</td>\n",
       "    </tr>\n",
       "    <tr>\n",
       "      <th>Jurassic Park (1993)</th>\n",
       "      <td>25518</td>\n",
       "      <td>3.684634</td>\n",
       "    </tr>\n",
       "    <tr>\n",
       "      <th>Schindler's List (1993)</th>\n",
       "      <td>24004</td>\n",
       "      <td>4.247625</td>\n",
       "    </tr>\n",
       "    <tr>\n",
       "      <th>Braveheart (1995)</th>\n",
       "      <td>23722</td>\n",
       "      <td>3.994119</td>\n",
       "    </tr>\n",
       "    <tr>\n",
       "      <th>Fight Club (1999)</th>\n",
       "      <td>23536</td>\n",
       "      <td>4.227906</td>\n",
       "    </tr>\n",
       "  </tbody>\n",
       "</table>\n",
       "</div>"
      ],
      "text/plain": [
       "                                           count      mean\n",
       "title                                                     \n",
       "Shawshank Redemption, The (1994)           32831  4.417624\n",
       "Forrest Gump (1994)                        32383  4.047216\n",
       "Pulp Fiction (1994)                        31697  4.195097\n",
       "Silence of the Lambs, The (1991)           29444  4.144172\n",
       "Matrix, The (1999)                         29014  4.154253\n",
       "Star Wars: Episode IV - A New Hope (1977)  27560  4.111811\n",
       "Jurassic Park (1993)                       25518  3.684634\n",
       "Schindler's List (1993)                    24004  4.247625\n",
       "Braveheart (1995)                          23722  3.994119\n",
       "Fight Club (1999)                          23536  4.227906"
      ]
     },
     "execution_count": 65,
     "metadata": {},
     "output_type": "execute_result"
    }
   ],
   "source": [
    "# Viewing the top rated movies based on their mean ratings and vote vounts  \n",
    "group_title = df.groupby('title').agg({'rating':['count','mean']})['rating']\n",
    "group_title.sort_values(['count','mean'],ascending=False,inplace=True)\n",
    "group_title.head(10)"
   ]
  },
  {
   "cell_type": "markdown",
   "metadata": {
    "hidden": true
   },
   "source": [
    "The Shawshank Redemption and Forrest Gump are the two most critically acclaimed movies in the TMDB Database. Interestingly, they are the top 2 movies in IMDB's Top 250 Movies list too. They have a rating of over 9 on IMDB as compared to their 8.5 TMDB Scores."
   ]
  },
  {
   "cell_type": "code",
   "execution_count": 68,
   "metadata": {
    "hidden": true
   },
   "outputs": [
    {
     "data": {
      "text/html": [
       "<div>\n",
       "<style scoped>\n",
       "    .dataframe tbody tr th:only-of-type {\n",
       "        vertical-align: middle;\n",
       "    }\n",
       "\n",
       "    .dataframe tbody tr th {\n",
       "        vertical-align: top;\n",
       "    }\n",
       "\n",
       "    .dataframe thead th {\n",
       "        text-align: right;\n",
       "    }\n",
       "</style>\n",
       "<table border=\"1\" class=\"dataframe\">\n",
       "  <thead>\n",
       "    <tr style=\"text-align: right;\">\n",
       "      <th></th>\n",
       "      <th>count</th>\n",
       "      <th>mean</th>\n",
       "    </tr>\n",
       "    <tr>\n",
       "      <th>title</th>\n",
       "      <th></th>\n",
       "      <th></th>\n",
       "    </tr>\n",
       "  </thead>\n",
       "  <tbody>\n",
       "    <tr>\n",
       "      <th>Planet Earth II (2016)</th>\n",
       "      <td>439</td>\n",
       "      <td>4.517084</td>\n",
       "    </tr>\n",
       "    <tr>\n",
       "      <th>Planet Earth (2006)</th>\n",
       "      <td>674</td>\n",
       "      <td>4.473294</td>\n",
       "    </tr>\n",
       "    <tr>\n",
       "      <th>Cosmos</th>\n",
       "      <td>116</td>\n",
       "      <td>4.456897</td>\n",
       "    </tr>\n",
       "    <tr>\n",
       "      <th>Shawshank Redemption, The (1994)</th>\n",
       "      <td>32831</td>\n",
       "      <td>4.417624</td>\n",
       "    </tr>\n",
       "    <tr>\n",
       "      <th>Band of Brothers (2001)</th>\n",
       "      <td>575</td>\n",
       "      <td>4.399130</td>\n",
       "    </tr>\n",
       "    <tr>\n",
       "      <th>The Blue Planet (2001)</th>\n",
       "      <td>216</td>\n",
       "      <td>4.337963</td>\n",
       "    </tr>\n",
       "    <tr>\n",
       "      <th>Godfather, The (1972)</th>\n",
       "      <td>20960</td>\n",
       "      <td>4.311355</td>\n",
       "    </tr>\n",
       "    <tr>\n",
       "      <th>Human Planet (2011)</th>\n",
       "      <td>132</td>\n",
       "      <td>4.295455</td>\n",
       "    </tr>\n",
       "    <tr>\n",
       "      <th>Blue Planet II (2017)</th>\n",
       "      <td>264</td>\n",
       "      <td>4.291667</td>\n",
       "    </tr>\n",
       "    <tr>\n",
       "      <th>Usual Suspects, The (1995)</th>\n",
       "      <td>22032</td>\n",
       "      <td>4.278073</td>\n",
       "    </tr>\n",
       "  </tbody>\n",
       "</table>\n",
       "</div>"
      ],
      "text/plain": [
       "                                  count      mean\n",
       "title                                            \n",
       "Planet Earth II (2016)              439  4.517084\n",
       "Planet Earth (2006)                 674  4.473294\n",
       "Cosmos                              116  4.456897\n",
       "Shawshank Redemption, The (1994)  32831  4.417624\n",
       "Band of Brothers (2001)             575  4.399130\n",
       "The Blue Planet (2001)              216  4.337963\n",
       "Godfather, The (1972)             20960  4.311355\n",
       "Human Planet (2011)                 132  4.295455\n",
       "Blue Planet II (2017)               264  4.291667\n",
       "Usual Suspects, The (1995)        22032  4.278073"
      ]
     },
     "execution_count": 68,
     "metadata": {},
     "output_type": "execute_result"
    }
   ],
   "source": [
    "# Subset of the movies based on mocies that have a vote count above 100\n",
    "new_group = group_title[group_title['count'] > 100]\n",
    "new_group = new_group.sort_values(['mean','count'],ascending=False)\n",
    "new_group.head()"
   ]
  },
  {
   "cell_type": "code",
   "execution_count": 74,
   "metadata": {
    "hidden": true
   },
   "outputs": [
    {
     "name": "stdout",
     "output_type": "stream",
     "text": [
      "The maximum mean rating is 4.52\n",
      "The minimum mean rating is 1.01\n"
     ]
    }
   ],
   "source": [
    "# min and max mean ratings \n",
    "print(\"The maximum mean rating is \"+ str(round(new_group['mean'].max(),2)))\n",
    "print(\"The minimum mean rating is \"+ str(round(new_group['mean'].min(),2)))"
   ]
  },
  {
   "cell_type": "markdown",
   "metadata": {
    "hidden": true
   },
   "source": [
    "Let us examine the summary statistics and the distribution of each feature one by one."
   ]
  },
  {
   "cell_type": "code",
   "execution_count": 75,
   "metadata": {
    "hidden": true
   },
   "outputs": [
    {
     "data": {
      "text/plain": [
       "count    7286.000000\n",
       "mean        3.330875\n",
       "std         0.498178\n",
       "min         1.011236\n",
       "25%         3.033197\n",
       "50%         3.409717\n",
       "75%         3.711516\n",
       "max         4.517084\n",
       "Name: mean, dtype: float64"
      ]
     },
     "execution_count": 75,
     "metadata": {},
     "output_type": "execute_result"
    }
   ],
   "source": [
    "new_group['mean'].describe()"
   ]
  },
  {
   "cell_type": "markdown",
   "metadata": {
    "hidden": true
   },
   "source": [
    "All movies have a rating score less than 5 (the 75th percentile is at 3.711). The **Max Rating is 4.51** and **the lowest is 1.01**"
   ]
  },
  {
   "cell_type": "code",
   "execution_count": 82,
   "metadata": {
    "hidden": true
   },
   "outputs": [
    {
     "data": {
      "image/png": "[encoded data removed]",
      "text/plain": [
       "<Figure size 432x288 with 1 Axes>"
      ]
     },
     "metadata": {},
     "output_type": "display_data"
    }
   ],
   "source": [
    "# Distribution of rating means for movies with more than 100 votes\n",
    "sns.distplot(new_group['mean'].fillna(new_group['mean'].median()))\n",
    "plt.show()"
   ]
  },
  {
   "cell_type": "code",
   "execution_count": 83,
   "metadata": {
    "hidden": true
   },
   "outputs": [
    {
     "data": {
      "text/plain": [
       "<matplotlib.axes._subplots.AxesSubplot at 0x21d809b3408>"
      ]
     },
     "execution_count": 83,
     "metadata": {},
     "output_type": "execute_result"
    },
    {
     "data": {
      "image/png": "[encoded data removed]",
      "text/plain": [
       "<Figure size 432x288 with 1 Axes>"
      ]
     },
     "metadata": {},
     "output_type": "display_data"
    }
   ],
   "source": [
    "new_group['mean'].plot(logy=True, kind='hist')"
   ]
  },
  {
   "cell_type": "markdown",
   "metadata": {
    "hidden": true
   },
   "source": [
    "The rating score has a mean of  **3.5** and maximum values of **4.5**. (Movies with less than 100 ratings have been removed.) "
   ]
  },
  {
   "cell_type": "code",
   "execution_count": 81,
   "metadata": {
    "hidden": true
   },
   "outputs": [
    {
     "data": {
      "image/png": "[encoded data removed]",
      "text/plain": [
       "<Figure size 432x504 with 1 Axes>"
      ]
     },
     "metadata": {},
     "output_type": "display_data"
    }
   ],
   "source": [
    "#bar graph plot to show the ratings of movies given by users\n",
    "cnt_srs = train['rating'].value_counts()\n",
    "\n",
    "plt.figure(figsize=(6,7))\n",
    "sns.barplot(cnt_srs.index, cnt_srs.values, alpha=0.8,palette='GnBu_d')\n",
    "plt.title('Movie Ratings of Users', fontsize=14)\n",
    "plt.ylabel('Number of Users', fontsize=12)\n",
    "plt.xlabel('Ratings', fontsize=12)\n",
    "plt.xticks([0,1,2,3,4,5,6,7,8,9],['0.5','1.0','1.5','2.0','2.5','3.0','3.5','4.0','4.5','5.0'])\n",
    "plt.show()"
   ]
  },
  {
   "cell_type": "markdown",
   "metadata": {
    "hidden": true
   },
   "source": [
    "The above bar graph shows the ratings of movies given by users. We notice a rating of 4.0 as being the most frequent rating being given to movies by users.\n",
    "\n",
    "As with popularity scores, the distribution of vote counts is extremely skewed with the median vote count standing at a paltry 10 votes. The most votes a single movie has got stands at 14,075. TMDB Votes, therefore, are not as potent and suggestive as its IMDB Counterpart. Nevertheless, let us check which the most voted on movies on the website are."
   ]
  },
  {
   "cell_type": "markdown",
   "metadata": {
    "hidden": true
   },
   "source": [
    "<font size=\"4\"><b>Movie Release Dates</b></font><br><br>\n",
    "Release Dates can often play a very important role in determining the success and the revenue generated by a particular movie. In this section, we will try and gain insights about release dates in terms of years, months and days of the week. \n",
    "\n",
    "We have already constructed the **year** feature in our preliminary data wrangling step. Let us now extract the month and day too for each movie with a release date."
   ]
  },
  {
   "cell_type": "markdown",
   "metadata": {
    "hidden": true
   },
   "source": [
    "<font size=\"3\"><b>Number of Movies per year</b></font><br><br>\n",
    "The Dataset of 45,000 movies available to us does not represent the entire corpus of movies released since the inception of cinema. However, it is reasomnable to assume that it does include almost every major film released in Hollywood as well as other major film industries across the world (such as Bollywood in India). With this assumption in mind, let us take a look at the number of movies produced by the year."
   ]
  },
  {
   "cell_type": "code",
   "execution_count": 84,
   "metadata": {
    "hidden": true
   },
   "outputs": [
    {
     "data": {
      "text/plain": [
       "<matplotlib.axes._subplots.AxesSubplot at 0x21d82e2fa08>"
      ]
     },
     "execution_count": 84,
     "metadata": {},
     "output_type": "execute_result"
    },
    {
     "data": {
      "image/png": "[encoded data removed]",
      "text/plain": [
       "<Figure size 1296x360 with 1 Axes>"
      ]
     },
     "metadata": {},
     "output_type": "display_data"
    }
   ],
   "source": [
    "year_count = df.groupby('year')['title'].count()\n",
    "plt.figure(figsize=(18,5))\n",
    "year_count.plot()"
   ]
  },
  {
   "cell_type": "markdown",
   "metadata": {
    "hidden": true
   },
   "source": [
    "We notice that there is a sharp rise in the number of movies **starting the 1990s decade.** However, we will not look too much into this as it is entirely possible that recent movies were oversampled for the purposes of this dataset.\n",
    "\n",
    "Next, let us take a look at the earliest movies represented in the dataset."
   ]
  },
  {
   "cell_type": "markdown",
   "metadata": {
    "hidden": true
   },
   "source": [
    "<font size=\"3\"><b>Earliest Movies Represented</b></font>"
   ]
  },
  {
   "cell_type": "code",
   "execution_count": 86,
   "metadata": {
    "hidden": true
   },
   "outputs": [
    {
     "data": {
      "text/html": [
       "<div>\n",
       "<style scoped>\n",
       "    .dataframe tbody tr th:only-of-type {\n",
       "        vertical-align: middle;\n",
       "    }\n",
       "\n",
       "    .dataframe tbody tr th {\n",
       "        vertical-align: top;\n",
       "    }\n",
       "\n",
       "    .dataframe thead th {\n",
       "        text-align: right;\n",
       "    }\n",
       "</style>\n",
       "<table border=\"1\" class=\"dataframe\">\n",
       "  <thead>\n",
       "    <tr style=\"text-align: right;\">\n",
       "      <th></th>\n",
       "      <th>title</th>\n",
       "      <th>year</th>\n",
       "    </tr>\n",
       "  </thead>\n",
       "  <tbody>\n",
       "    <tr>\n",
       "      <th>7223940</th>\n",
       "      <td>Passage de Venus (1874)</td>\n",
       "      <td>1874</td>\n",
       "    </tr>\n",
       "    <tr>\n",
       "      <th>6084059</th>\n",
       "      <td>Passage de Venus (1874)</td>\n",
       "      <td>1874</td>\n",
       "    </tr>\n",
       "    <tr>\n",
       "      <th>1543753</th>\n",
       "      <td>Sallie Gardner at a Gallop (1878)</td>\n",
       "      <td>1878</td>\n",
       "    </tr>\n",
       "    <tr>\n",
       "      <th>4161502</th>\n",
       "      <td>Sallie Gardner at a Gallop (1878)</td>\n",
       "      <td>1878</td>\n",
       "    </tr>\n",
       "    <tr>\n",
       "      <th>3052771</th>\n",
       "      <td>Sallie Gardner at a Gallop (1878)</td>\n",
       "      <td>1878</td>\n",
       "    </tr>\n",
       "    <tr>\n",
       "      <th>4599943</th>\n",
       "      <td>Sallie Gardner at a Gallop (1878)</td>\n",
       "      <td>1878</td>\n",
       "    </tr>\n",
       "    <tr>\n",
       "      <th>6231122</th>\n",
       "      <td>Sallie Gardner at a Gallop (1878)</td>\n",
       "      <td>1878</td>\n",
       "    </tr>\n",
       "    <tr>\n",
       "      <th>5826234</th>\n",
       "      <td>Sallie Gardner at a Gallop (1878)</td>\n",
       "      <td>1878</td>\n",
       "    </tr>\n",
       "    <tr>\n",
       "      <th>3960408</th>\n",
       "      <td>Buffalo Running (1883)</td>\n",
       "      <td>1883</td>\n",
       "    </tr>\n",
       "    <tr>\n",
       "      <th>8847089</th>\n",
       "      <td>Buffalo Running (1883)</td>\n",
       "      <td>1883</td>\n",
       "    </tr>\n",
       "  </tbody>\n",
       "</table>\n",
       "</div>"
      ],
      "text/plain": [
       "                                     title  year\n",
       "7223940            Passage de Venus (1874)  1874\n",
       "6084059            Passage de Venus (1874)  1874\n",
       "1543753  Sallie Gardner at a Gallop (1878)  1878\n",
       "4161502  Sallie Gardner at a Gallop (1878)  1878\n",
       "3052771  Sallie Gardner at a Gallop (1878)  1878\n",
       "4599943  Sallie Gardner at a Gallop (1878)  1878\n",
       "6231122  Sallie Gardner at a Gallop (1878)  1878\n",
       "5826234  Sallie Gardner at a Gallop (1878)  1878\n",
       "3960408             Buffalo Running (1883)  1883\n",
       "8847089             Buffalo Running (1883)  1883"
      ]
     },
     "execution_count": 86,
     "metadata": {},
     "output_type": "execute_result"
    }
   ],
   "source": [
    "df[df['year'] != 'NaT'][['title', 'year']].sort_values('year').head(10)"
   ]
  },
  {
   "cell_type": "markdown",
   "metadata": {
    "hidden": true
   },
   "source": [
    "The oldest film is Passage of Venus\tfrom 1874. "
   ]
  },
  {
   "cell_type": "markdown",
   "metadata": {
    "hidden": true
   },
   "source": [
    "<font size=\"4\"><b>Runtime</b></font><br><br>\n",
    "From its humble beginnings of 1 minute silent, black & white clips to epic 3 hour visual delights, movies have a come a long way in terms of runtime. In this section, let us try and gain some additional insights about the nature of movie lengths and their evolution over time."
   ]
  },
  {
   "cell_type": "code",
   "execution_count": 87,
   "metadata": {
    "hidden": true
   },
   "outputs": [
    {
     "data": {
      "text/plain": [
       "count    15189.000000\n",
       "mean       100.312331\n",
       "std         31.061707\n",
       "min          1.000000\n",
       "25%         89.000000\n",
       "50%         98.000000\n",
       "75%        109.000000\n",
       "max        877.000000\n",
       "Name: runtime, dtype: float64"
      ]
     },
     "execution_count": 87,
     "metadata": {},
     "output_type": "execute_result"
    }
   ],
   "source": [
    "imdb_data['runtime'].describe()"
   ]
  },
  {
   "cell_type": "markdown",
   "metadata": {
    "hidden": true
   },
   "source": [
    "The average length of a movie is about 1 hour and 40 minutes. The longest movie on record in this dataset is a **staggering 877 minutes (or 14.6 hours) long.** **NB, DATA MAY CONTAIN SOME SERIES HENCE THE HIGH RUNTIME ON SOME**"
   ]
  },
  {
   "cell_type": "markdown",
   "metadata": {
    "hidden": true
   },
   "source": [
    "We are aware that most movies are less than 5 hours (or 300 minutes) long. Let us plot a distribution of these mainstream movies."
   ]
  },
  {
   "cell_type": "code",
   "execution_count": 89,
   "metadata": {
    "hidden": true
   },
   "outputs": [
    {
     "data": {
      "text/plain": [
       "<matplotlib.axes._subplots.AxesSubplot at 0x21d81d99948>"
      ]
     },
     "execution_count": 89,
     "metadata": {},
     "output_type": "execute_result"
    },
    {
     "data": {
      "image/png": "[encoded data removed]",
      "text/plain": [
       "<Figure size 864x432 with 1 Axes>"
      ]
     },
     "metadata": {},
     "output_type": "display_data"
    }
   ],
   "source": [
    "imdb_data['runtime'] = imdb_data['runtime'].astype('float')\n",
    "plt.figure(figsize=(12,6))\n",
    "sns.distplot(imdb_data[(imdb_data['runtime'] < 300) & (imdb_data['runtime'] > 0)]['runtime'])"
   ]
  },
  {
   "cell_type": "markdown",
   "metadata": {
    "hidden": true
   },
   "source": [
    "As we can see from the above distribution graph for the runtime of movies, that the most common duration of a movie is around 90 minutes."
   ]
  },
  {
   "cell_type": "markdown",
   "metadata": {
    "hidden": true
   },
   "source": [
    "<font size=\"4\"><b>Budget</b></font><br><br>\n",
    "Let us now turn our attention to budget. We expect budgets to be a skewed quantity and also heavily influenced by inflation. Nevertheless, it would be interesting to gather as much insights as possible from this quantity as budget is often a critical feature in predicting movie revenue and success. As a start, let us gather the summary statistics for our budget."
   ]
  },
  {
   "cell_type": "code",
   "execution_count": 90,
   "metadata": {
    "hidden": true
   },
   "outputs": [
    {
     "data": {
      "text/plain": [
       "count    2.727800e+04\n",
       "mean     6.897762e+06\n",
       "std      6.471789e+07\n",
       "min     -2.147484e+09\n",
       "25%      0.000000e+00\n",
       "50%      0.000000e+00\n",
       "75%      1.000000e+06\n",
       "max      2.000000e+09\n",
       "Name: budget, dtype: float64"
      ]
     },
     "execution_count": 90,
     "metadata": {},
     "output_type": "execute_result"
    }
   ],
   "source": [
    "imdb_data['budget'].describe()"
   ]
  },
  {
   "cell_type": "markdown",
   "metadata": {
    "hidden": true
   },
   "source": [
    "The mean budget of a film is 21.6 million dollars whereas the median budget is far smaller at 8 million dollars. This strongly suggests the mean being influenced by outliers. "
   ]
  },
  {
   "cell_type": "code",
   "execution_count": 91,
   "metadata": {
    "hidden": true
   },
   "outputs": [
    {
     "data": {
      "text/plain": [
       "<matplotlib.axes._subplots.AxesSubplot at 0x21d83e25ec8>"
      ]
     },
     "execution_count": 91,
     "metadata": {},
     "output_type": "execute_result"
    },
    {
     "data": {
      "image/png": "[encoded data removed]",
      "text/plain": [
       "<Figure size 432x288 with 1 Axes>"
      ]
     },
     "metadata": {},
     "output_type": "display_data"
    }
   ],
   "source": [
    "sns.distplot(imdb_data[imdb_data['budget'].notnull()]['budget'])"
   ]
  },
  {
   "cell_type": "code",
   "execution_count": 92,
   "metadata": {
    "hidden": true
   },
   "outputs": [
    {
     "data": {
      "text/plain": [
       "<matplotlib.axes._subplots.AxesSubplot at 0x21d82d46408>"
      ]
     },
     "execution_count": 92,
     "metadata": {},
     "output_type": "execute_result"
    },
    {
     "data": {
      "image/png": "[encoded data removed]",
      "text/plain": [
       "<Figure size 432x288 with 1 Axes>"
      ]
     },
     "metadata": {},
     "output_type": "display_data"
    }
   ],
   "source": [
    "imdb_data['budget'].plot(logy=True, kind='hist')"
   ]
  },
  {
   "cell_type": "markdown",
   "metadata": {
    "hidden": true
   },
   "source": [
    "The distribution of movie budgets shows an exponential decay. More than 75% of the movies have a budget smaller than 25 million dollars. Next, let us take a look at the most expensive movies of all time and the revenue & returns that they generated."
   ]
  },
  {
   "cell_type": "markdown",
   "metadata": {
    "hidden": true
   },
   "source": [
    "<font size=\"4\"><b>Movie Release Dates</b></font><br><br>\n",
    "Let us take a look at the various genres of movies as this may provide insights as to the preferences of users. This is also vital to our content based movie recommender later in the notebook."
   ]
  },
  {
   "cell_type": "code",
   "execution_count": 94,
   "metadata": {
    "hidden": true
   },
   "outputs": [],
   "source": [
    "genres = [\"Action\",\"Adventure\",\"Animation\",\"Children\",\"Comedy\",\"Crime\",\"Documentary\",\"Drama\",\"Fantasy\",\"Film-Noir\",\"Horror\",\"Musical\",\"Mystery\",\"Romance\",\"Sci-Fi\",\"Thriller\",\"War\",\"Western\",\"(no genres listed)\"]"
   ]
  },
  {
   "cell_type": "code",
   "execution_count": 96,
   "metadata": {
    "hidden": true
   },
   "outputs": [
    {
     "data": {
      "text/html": [
       "<div>\n",
       "<style scoped>\n",
       "    .dataframe tbody tr th:only-of-type {\n",
       "        vertical-align: middle;\n",
       "    }\n",
       "\n",
       "    .dataframe tbody tr th {\n",
       "        vertical-align: top;\n",
       "    }\n",
       "\n",
       "    .dataframe thead th {\n",
       "        text-align: right;\n",
       "    }\n",
       "</style>\n",
       "<table border=\"1\" class=\"dataframe\">\n",
       "  <thead>\n",
       "    <tr style=\"text-align: right;\">\n",
       "      <th></th>\n",
       "      <th>Genres</th>\n",
       "      <th>Movies</th>\n",
       "    </tr>\n",
       "  </thead>\n",
       "  <tbody>\n",
       "    <tr>\n",
       "      <th>0</th>\n",
       "      <td>Drama</td>\n",
       "      <td>25606</td>\n",
       "    </tr>\n",
       "    <tr>\n",
       "      <th>1</th>\n",
       "      <td>Comedy</td>\n",
       "      <td>16870</td>\n",
       "    </tr>\n",
       "    <tr>\n",
       "      <th>2</th>\n",
       "      <td>Thriller</td>\n",
       "      <td>8654</td>\n",
       "    </tr>\n",
       "    <tr>\n",
       "      <th>3</th>\n",
       "      <td>Romance</td>\n",
       "      <td>7719</td>\n",
       "    </tr>\n",
       "    <tr>\n",
       "      <th>4</th>\n",
       "      <td>Action</td>\n",
       "      <td>7348</td>\n",
       "    </tr>\n",
       "    <tr>\n",
       "      <th>5</th>\n",
       "      <td>Horror</td>\n",
       "      <td>5989</td>\n",
       "    </tr>\n",
       "    <tr>\n",
       "      <th>6</th>\n",
       "      <td>Documentary</td>\n",
       "      <td>5605</td>\n",
       "    </tr>\n",
       "    <tr>\n",
       "      <th>7</th>\n",
       "      <td>Crime</td>\n",
       "      <td>5319</td>\n",
       "    </tr>\n",
       "    <tr>\n",
       "      <th>8</th>\n",
       "      <td>(no genres listed)</td>\n",
       "      <td>5062</td>\n",
       "    </tr>\n",
       "    <tr>\n",
       "      <th>9</th>\n",
       "      <td>Adventure</td>\n",
       "      <td>4145</td>\n",
       "    </tr>\n",
       "    <tr>\n",
       "      <th>10</th>\n",
       "      <td>Sci-Fi</td>\n",
       "      <td>3595</td>\n",
       "    </tr>\n",
       "    <tr>\n",
       "      <th>11</th>\n",
       "      <td>Children</td>\n",
       "      <td>2935</td>\n",
       "    </tr>\n",
       "    <tr>\n",
       "      <th>12</th>\n",
       "      <td>Animation</td>\n",
       "      <td>2929</td>\n",
       "    </tr>\n",
       "    <tr>\n",
       "      <th>13</th>\n",
       "      <td>Mystery</td>\n",
       "      <td>2925</td>\n",
       "    </tr>\n",
       "    <tr>\n",
       "      <th>14</th>\n",
       "      <td>Fantasy</td>\n",
       "      <td>2731</td>\n",
       "    </tr>\n",
       "    <tr>\n",
       "      <th>15</th>\n",
       "      <td>War</td>\n",
       "      <td>1874</td>\n",
       "    </tr>\n",
       "    <tr>\n",
       "      <th>16</th>\n",
       "      <td>Western</td>\n",
       "      <td>1399</td>\n",
       "    </tr>\n",
       "    <tr>\n",
       "      <th>17</th>\n",
       "      <td>Musical</td>\n",
       "      <td>1054</td>\n",
       "    </tr>\n",
       "    <tr>\n",
       "      <th>18</th>\n",
       "      <td>Film-Noir</td>\n",
       "      <td>353</td>\n",
       "    </tr>\n",
       "  </tbody>\n",
       "</table>\n",
       "</div>"
      ],
      "text/plain": [
       "                Genres  Movies\n",
       "0                Drama   25606\n",
       "1               Comedy   16870\n",
       "2             Thriller    8654\n",
       "3              Romance    7719\n",
       "4               Action    7348\n",
       "5               Horror    5989\n",
       "6          Documentary    5605\n",
       "7                Crime    5319\n",
       "8   (no genres listed)    5062\n",
       "9            Adventure    4145\n",
       "10              Sci-Fi    3595\n",
       "11            Children    2935\n",
       "12           Animation    2929\n",
       "13             Mystery    2925\n",
       "14             Fantasy    2731\n",
       "15                 War    1874\n",
       "16             Western    1399\n",
       "17             Musical    1054\n",
       "18           Film-Noir     353"
      ]
     },
     "execution_count": 96,
     "metadata": {},
     "output_type": "execute_result"
    }
   ],
   "source": [
    "# Viewing the number of movies in the different genres, some movies are calssified as having multiple genres\n",
    "num_mov = [len(movies[movies['genres'].str.contains(genre.lower())]) for genre in genres]\n",
    "d = {\"Genres\":genres,\"Movies\":num_mov}\n",
    "mov_gen = pd.DataFrame(d)\n",
    "mov_gen.sort_values('Movies',ascending=False,inplace=True)\n",
    "mov_gen.reset_index(drop=True,inplace=True)\n",
    "mov_gen.head(20)"
   ]
  },
  {
   "cell_type": "code",
   "execution_count": 98,
   "metadata": {
    "hidden": true
   },
   "outputs": [
    {
     "data": {
      "image/png": "[encoded data removed]",
      "text/plain": [
       "<Figure size 1440x576 with 1 Axes>"
      ]
     },
     "metadata": {},
     "output_type": "display_data"
    }
   ],
   "source": [
    "#bargraph illustrating the distribution of movies throughout the various genres\n",
    "plt.figure(figsize=(20,8))\n",
    "sns.barplot(x='Genres', y='Movies', data=mov_gen.head(19), palette='GnBu_d')\n",
    "plt.show()"
   ]
  },
  {
   "cell_type": "markdown",
   "metadata": {
    "hidden": true
   },
   "source": [
    "**Drama** is the most commonly occurring genre with almost half the movies identifying itself as a drama film. The second one **Comedy** followed by Thriller, Romance, Action, Horror, Documentary, Crime, Adventure, Science Fiction, Children, Animation, Mystery and Fantasy."
   ]
  },
  {
   "cell_type": "markdown",
   "metadata": {
    "hidden": true
   },
   "source": [
    "<font size=\"4\"><b>Movie Release Dates</b></font><br><br>\n",
    "We have a better idea on the movies, their popularity or lack of. Before moving into modeling, let's see if we can get some insights on the user."
   ]
  },
  {
   "cell_type": "code",
   "execution_count": 99,
   "metadata": {
    "hidden": true
   },
   "outputs": [
    {
     "data": {
      "text/html": [
       "<div>\n",
       "<style scoped>\n",
       "    .dataframe tbody tr th:only-of-type {\n",
       "        vertical-align: middle;\n",
       "    }\n",
       "\n",
       "    .dataframe tbody tr th {\n",
       "        vertical-align: top;\n",
       "    }\n",
       "\n",
       "    .dataframe thead th {\n",
       "        text-align: right;\n",
       "    }\n",
       "</style>\n",
       "<table border=\"1\" class=\"dataframe\">\n",
       "  <thead>\n",
       "    <tr style=\"text-align: right;\">\n",
       "      <th></th>\n",
       "      <th>userId</th>\n",
       "      <th>movieId</th>\n",
       "      <th>rating</th>\n",
       "      <th>timestamp</th>\n",
       "    </tr>\n",
       "  </thead>\n",
       "  <tbody>\n",
       "    <tr>\n",
       "      <th>0</th>\n",
       "      <td>5163</td>\n",
       "      <td>57669</td>\n",
       "      <td>4.0</td>\n",
       "      <td>1518349992</td>\n",
       "    </tr>\n",
       "    <tr>\n",
       "      <th>1</th>\n",
       "      <td>106343</td>\n",
       "      <td>5</td>\n",
       "      <td>4.5</td>\n",
       "      <td>1206238739</td>\n",
       "    </tr>\n",
       "    <tr>\n",
       "      <th>2</th>\n",
       "      <td>146790</td>\n",
       "      <td>5459</td>\n",
       "      <td>5.0</td>\n",
       "      <td>1076215539</td>\n",
       "    </tr>\n",
       "    <tr>\n",
       "      <th>3</th>\n",
       "      <td>106362</td>\n",
       "      <td>32296</td>\n",
       "      <td>2.0</td>\n",
       "      <td>1423042565</td>\n",
       "    </tr>\n",
       "    <tr>\n",
       "      <th>4</th>\n",
       "      <td>9041</td>\n",
       "      <td>366</td>\n",
       "      <td>3.0</td>\n",
       "      <td>833375837</td>\n",
       "    </tr>\n",
       "  </tbody>\n",
       "</table>\n",
       "</div>"
      ],
      "text/plain": [
       "   userId  movieId  rating   timestamp\n",
       "0    5163    57669     4.0  1518349992\n",
       "1  106343        5     4.5  1206238739\n",
       "2  146790     5459     5.0  1076215539\n",
       "3  106362    32296     2.0  1423042565\n",
       "4    9041      366     3.0   833375837"
      ]
     },
     "execution_count": 99,
     "metadata": {},
     "output_type": "execute_result"
    }
   ],
   "source": [
    "users = train.copy()\n",
    "users.head()"
   ]
  },
  {
   "cell_type": "markdown",
   "metadata": {
    "hidden": true
   },
   "source": [
    "<font size=\"3\"><b>Check for missing values and extracting datetime</b></font><br>\n",
    "We want to be able to analyse user activity by time."
   ]
  },
  {
   "cell_type": "code",
   "execution_count": 105,
   "metadata": {
    "hidden": true
   },
   "outputs": [
    {
     "name": "stdout",
     "output_type": "stream",
     "text": [
      "Timestamp for ratings from 1995-01-09T13:46:49 to 2019-11-21T11:12:29:\n"
     ]
    }
   ],
   "source": [
    "min_time = datetime.datetime.fromtimestamp(min(users.timestamp)).isoformat()\n",
    "max_time = datetime.datetime.fromtimestamp(max(users.timestamp)).isoformat()\n",
    "print('Timestamp for ratings from {} to {}:'.format(min_time, max_time))"
   ]
  },
  {
   "cell_type": "code",
   "execution_count": 106,
   "metadata": {
    "hidden": true
   },
   "outputs": [
    {
     "data": {
      "text/html": [
       "<div>\n",
       "<style scoped>\n",
       "    .dataframe tbody tr th:only-of-type {\n",
       "        vertical-align: middle;\n",
       "    }\n",
       "\n",
       "    .dataframe tbody tr th {\n",
       "        vertical-align: top;\n",
       "    }\n",
       "\n",
       "    .dataframe thead th {\n",
       "        text-align: right;\n",
       "    }\n",
       "</style>\n",
       "<table border=\"1\" class=\"dataframe\">\n",
       "  <thead>\n",
       "    <tr style=\"text-align: right;\">\n",
       "      <th></th>\n",
       "      <th>timestamp</th>\n",
       "      <th>rating</th>\n",
       "      <th>movieId</th>\n",
       "      <th>userId</th>\n",
       "    </tr>\n",
       "  </thead>\n",
       "  <tbody>\n",
       "    <tr>\n",
       "      <th>Total</th>\n",
       "      <td>0.0</td>\n",
       "      <td>0.0</td>\n",
       "      <td>0.0</td>\n",
       "      <td>0.0</td>\n",
       "    </tr>\n",
       "    <tr>\n",
       "      <th>Percent</th>\n",
       "      <td>0.0</td>\n",
       "      <td>0.0</td>\n",
       "      <td>0.0</td>\n",
       "      <td>0.0</td>\n",
       "    </tr>\n",
       "  </tbody>\n",
       "</table>\n",
       "</div>"
      ],
      "text/plain": [
       "         timestamp  rating  movieId  userId\n",
       "Total          0.0     0.0      0.0     0.0\n",
       "Percent        0.0     0.0      0.0     0.0"
      ]
     },
     "execution_count": 106,
     "metadata": {},
     "output_type": "execute_result"
    }
   ],
   "source": [
    "def check_missing(data_df):\n",
    "    \"\"\"\n",
    "    Check for missing values in a dataframe. \n",
    "    \"\"\"\n",
    "    total = data_df.isnull().sum().sort_values(ascending = False)\n",
    "    percent = (data_df.isnull().sum()/data_df.isnull().count()*100).sort_values(ascending = False)\n",
    "    return pd.concat([total, percent], axis=1, keys=['Total', 'Percent']).transpose()\n",
    "\n",
    "check_missing(users)"
   ]
  },
  {
   "cell_type": "code",
   "execution_count": 107,
   "metadata": {
    "hidden": true
   },
   "outputs": [
    {
     "data": {
      "text/html": [
       "<div>\n",
       "<style scoped>\n",
       "    .dataframe tbody tr th:only-of-type {\n",
       "        vertical-align: middle;\n",
       "    }\n",
       "\n",
       "    .dataframe tbody tr th {\n",
       "        vertical-align: top;\n",
       "    }\n",
       "\n",
       "    .dataframe thead th {\n",
       "        text-align: right;\n",
       "    }\n",
       "</style>\n",
       "<table border=\"1\" class=\"dataframe\">\n",
       "  <thead>\n",
       "    <tr style=\"text-align: right;\">\n",
       "      <th></th>\n",
       "      <th>year</th>\n",
       "      <th>genres</th>\n",
       "      <th>title</th>\n",
       "      <th>movieId</th>\n",
       "    </tr>\n",
       "  </thead>\n",
       "  <tbody>\n",
       "    <tr>\n",
       "      <th>Total</th>\n",
       "      <td>410.000000</td>\n",
       "      <td>0.0</td>\n",
       "      <td>0.0</td>\n",
       "      <td>0.0</td>\n",
       "    </tr>\n",
       "    <tr>\n",
       "      <th>Percent</th>\n",
       "      <td>0.656809</td>\n",
       "      <td>0.0</td>\n",
       "      <td>0.0</td>\n",
       "      <td>0.0</td>\n",
       "    </tr>\n",
       "  </tbody>\n",
       "</table>\n",
       "</div>"
      ],
      "text/plain": [
       "               year  genres  title  movieId\n",
       "Total    410.000000     0.0    0.0      0.0\n",
       "Percent    0.656809     0.0    0.0      0.0"
      ]
     },
     "execution_count": 107,
     "metadata": {},
     "output_type": "execute_result"
    }
   ],
   "source": [
    "check_missing(movies)"
   ]
  },
  {
   "cell_type": "code",
   "execution_count": 108,
   "metadata": {
    "hidden": true
   },
   "outputs": [
    {
     "data": {
      "text/plain": [
       "(10000038, 7)"
      ]
     },
     "execution_count": 108,
     "metadata": {},
     "output_type": "execute_result"
    }
   ],
   "source": [
    "users = users.join(movies.set_index('movieId'),on='movieId')\n",
    "users.shape"
   ]
  },
  {
   "cell_type": "code",
   "execution_count": 109,
   "metadata": {
    "hidden": true
   },
   "outputs": [
    {
     "data": {
      "text/html": [
       "<div>\n",
       "<style scoped>\n",
       "    .dataframe tbody tr th:only-of-type {\n",
       "        vertical-align: middle;\n",
       "    }\n",
       "\n",
       "    .dataframe tbody tr th {\n",
       "        vertical-align: top;\n",
       "    }\n",
       "\n",
       "    .dataframe thead th {\n",
       "        text-align: right;\n",
       "    }\n",
       "</style>\n",
       "<table border=\"1\" class=\"dataframe\">\n",
       "  <thead>\n",
       "    <tr style=\"text-align: right;\">\n",
       "      <th></th>\n",
       "      <th>userId</th>\n",
       "      <th>movieId</th>\n",
       "      <th>rating</th>\n",
       "      <th>timestamp</th>\n",
       "      <th>title</th>\n",
       "      <th>genres</th>\n",
       "      <th>year</th>\n",
       "      <th>time_dt</th>\n",
       "    </tr>\n",
       "  </thead>\n",
       "  <tbody>\n",
       "    <tr>\n",
       "      <th>0</th>\n",
       "      <td>5163</td>\n",
       "      <td>57669</td>\n",
       "      <td>4.0</td>\n",
       "      <td>1518349992</td>\n",
       "      <td>In Bruges (2008)</td>\n",
       "      <td>comedy crime drama thriller</td>\n",
       "      <td>2008</td>\n",
       "      <td>2018-02-11 13:53:12</td>\n",
       "    </tr>\n",
       "    <tr>\n",
       "      <th>1</th>\n",
       "      <td>106343</td>\n",
       "      <td>5</td>\n",
       "      <td>4.5</td>\n",
       "      <td>1206238739</td>\n",
       "      <td>Father of the Bride Part II (1995)</td>\n",
       "      <td>comedy</td>\n",
       "      <td>1995</td>\n",
       "      <td>2008-03-23 04:18:59</td>\n",
       "    </tr>\n",
       "    <tr>\n",
       "      <th>2</th>\n",
       "      <td>146790</td>\n",
       "      <td>5459</td>\n",
       "      <td>5.0</td>\n",
       "      <td>1076215539</td>\n",
       "      <td>Men in Black II (a.k.a. MIIB) (a.k.a. MIB 2) (...</td>\n",
       "      <td>action comedy sci-fi</td>\n",
       "      <td>2002</td>\n",
       "      <td>2004-02-08 06:45:39</td>\n",
       "    </tr>\n",
       "    <tr>\n",
       "      <th>3</th>\n",
       "      <td>106362</td>\n",
       "      <td>32296</td>\n",
       "      <td>2.0</td>\n",
       "      <td>1423042565</td>\n",
       "      <td>Miss Congeniality 2: Armed and Fabulous (2005)</td>\n",
       "      <td>adventure comedy crime</td>\n",
       "      <td>2005</td>\n",
       "      <td>2015-02-04 11:36:05</td>\n",
       "    </tr>\n",
       "    <tr>\n",
       "      <th>4</th>\n",
       "      <td>9041</td>\n",
       "      <td>366</td>\n",
       "      <td>3.0</td>\n",
       "      <td>833375837</td>\n",
       "      <td>Wes Craven's New Nightmare (Nightmare on Elm S...</td>\n",
       "      <td>drama horror mystery thriller</td>\n",
       "      <td>1994</td>\n",
       "      <td>1996-05-29 15:17:17</td>\n",
       "    </tr>\n",
       "  </tbody>\n",
       "</table>\n",
       "</div>"
      ],
      "text/plain": [
       "   userId  movieId  rating   timestamp  \\\n",
       "0    5163    57669     4.0  1518349992   \n",
       "1  106343        5     4.5  1206238739   \n",
       "2  146790     5459     5.0  1076215539   \n",
       "3  106362    32296     2.0  1423042565   \n",
       "4    9041      366     3.0   833375837   \n",
       "\n",
       "                                               title  \\\n",
       "0                                   In Bruges (2008)   \n",
       "1                 Father of the Bride Part II (1995)   \n",
       "2  Men in Black II (a.k.a. MIIB) (a.k.a. MIB 2) (...   \n",
       "3     Miss Congeniality 2: Armed and Fabulous (2005)   \n",
       "4  Wes Craven's New Nightmare (Nightmare on Elm S...   \n",
       "\n",
       "                          genres  year             time_dt  \n",
       "0    comedy crime drama thriller  2008 2018-02-11 13:53:12  \n",
       "1                         comedy  1995 2008-03-23 04:18:59  \n",
       "2           action comedy sci-fi  2002 2004-02-08 06:45:39  \n",
       "3         adventure comedy crime  2005 2015-02-04 11:36:05  \n",
       "4  drama horror mystery thriller  1994 1996-05-29 15:17:17  "
      ]
     },
     "execution_count": 109,
     "metadata": {},
     "output_type": "execute_result"
    }
   ],
   "source": [
    "users['time_dt'] = users['timestamp'].apply(lambda x: datetime.datetime.fromtimestamp(x))\n",
    "users.head()"
   ]
  },
  {
   "cell_type": "code",
   "execution_count": 110,
   "metadata": {
    "hidden": true
   },
   "outputs": [
    {
     "data": {
      "text/html": [
       "<div>\n",
       "<style scoped>\n",
       "    .dataframe tbody tr th:only-of-type {\n",
       "        vertical-align: middle;\n",
       "    }\n",
       "\n",
       "    .dataframe tbody tr th {\n",
       "        vertical-align: top;\n",
       "    }\n",
       "\n",
       "    .dataframe thead th {\n",
       "        text-align: right;\n",
       "    }\n",
       "</style>\n",
       "<table border=\"1\" class=\"dataframe\">\n",
       "  <thead>\n",
       "    <tr style=\"text-align: right;\">\n",
       "      <th></th>\n",
       "      <th>years</th>\n",
       "      <th>month</th>\n",
       "      <th>day</th>\n",
       "      <th>dayofweek</th>\n",
       "    </tr>\n",
       "  </thead>\n",
       "  <tbody>\n",
       "    <tr>\n",
       "      <th>count</th>\n",
       "      <td>1.000004e+07</td>\n",
       "      <td>1.000004e+07</td>\n",
       "      <td>1.000004e+07</td>\n",
       "      <td>1.000004e+07</td>\n",
       "    </tr>\n",
       "    <tr>\n",
       "      <th>mean</th>\n",
       "      <td>2.008016e+03</td>\n",
       "      <td>6.608953e+00</td>\n",
       "      <td>1.564212e+01</td>\n",
       "      <td>2.967211e+00</td>\n",
       "    </tr>\n",
       "    <tr>\n",
       "      <th>std</th>\n",
       "      <td>7.210802e+00</td>\n",
       "      <td>3.506824e+00</td>\n",
       "      <td>8.818277e+00</td>\n",
       "      <td>2.050770e+00</td>\n",
       "    </tr>\n",
       "    <tr>\n",
       "      <th>min</th>\n",
       "      <td>1.995000e+03</td>\n",
       "      <td>1.000000e+00</td>\n",
       "      <td>1.000000e+00</td>\n",
       "      <td>0.000000e+00</td>\n",
       "    </tr>\n",
       "    <tr>\n",
       "      <th>25%</th>\n",
       "      <td>2.002000e+03</td>\n",
       "      <td>4.000000e+00</td>\n",
       "      <td>8.000000e+00</td>\n",
       "      <td>1.000000e+00</td>\n",
       "    </tr>\n",
       "    <tr>\n",
       "      <th>50%</th>\n",
       "      <td>2.007000e+03</td>\n",
       "      <td>7.000000e+00</td>\n",
       "      <td>1.600000e+01</td>\n",
       "      <td>3.000000e+00</td>\n",
       "    </tr>\n",
       "    <tr>\n",
       "      <th>75%</th>\n",
       "      <td>2.015000e+03</td>\n",
       "      <td>1.000000e+01</td>\n",
       "      <td>2.300000e+01</td>\n",
       "      <td>5.000000e+00</td>\n",
       "    </tr>\n",
       "    <tr>\n",
       "      <th>max</th>\n",
       "      <td>2.019000e+03</td>\n",
       "      <td>1.200000e+01</td>\n",
       "      <td>3.100000e+01</td>\n",
       "      <td>6.000000e+00</td>\n",
       "    </tr>\n",
       "  </tbody>\n",
       "</table>\n",
       "</div>"
      ],
      "text/plain": [
       "              years         month           day     dayofweek\n",
       "count  1.000004e+07  1.000004e+07  1.000004e+07  1.000004e+07\n",
       "mean   2.008016e+03  6.608953e+00  1.564212e+01  2.967211e+00\n",
       "std    7.210802e+00  3.506824e+00  8.818277e+00  2.050770e+00\n",
       "min    1.995000e+03  1.000000e+00  1.000000e+00  0.000000e+00\n",
       "25%    2.002000e+03  4.000000e+00  8.000000e+00  1.000000e+00\n",
       "50%    2.007000e+03  7.000000e+00  1.600000e+01  3.000000e+00\n",
       "75%    2.015000e+03  1.000000e+01  2.300000e+01  5.000000e+00\n",
       "max    2.019000e+03  1.200000e+01  3.100000e+01  6.000000e+00"
      ]
     },
     "execution_count": 110,
     "metadata": {},
     "output_type": "execute_result"
    }
   ],
   "source": [
    "users['years'] = users['time_dt'].dt.year\n",
    "users['month'] = users['time_dt'].dt.month\n",
    "users['day'] = users['time_dt'].dt.day\n",
    "users['dayofweek'] = users['time_dt'].dt.dayofweek\n",
    "\n",
    "users[['years', 'month', 'day', 'dayofweek']].describe()"
   ]
  },
  {
   "cell_type": "markdown",
   "metadata": {
    "hidden": true
   },
   "source": [
    "<font size=\"3\"><b>Check date/time distribution</b></font><br>\n",
    "Let's proceed now to check date/time distribution."
   ]
  },
  {
   "cell_type": "code",
   "execution_count": 125,
   "metadata": {
    "hidden": true
   },
   "outputs": [
    {
     "data": {
      "image/png": "[encoded data removed]",
      "text/plain": [
       "<Figure size 1296x216 with 4 Axes>"
      ]
     },
     "metadata": {},
     "output_type": "display_data"
    }
   ],
   "source": [
    "# Distribution of users rating based on date/time\n",
    "fig, (ax1, ax2, ax3, ax4) = plt.subplots(ncols=4, figsize=(18,3))\n",
    "s = sns.boxplot(ax = ax1, y=\"years\", data=users, palette=\"Greens\",showfliers=True)\n",
    "s = sns.boxplot(ax = ax2, y=\"month\", data=users, palette=\"Blues\",showfliers=True)\n",
    "s = sns.boxplot(ax = ax3, y=\"day\", data=users, palette=\"Reds\",showfliers=True)\n",
    "s = sns.boxplot(ax = ax4, y=\"dayofweek\", data=users, palette=\"Blues\",showfliers=True)\n",
    "plt.show()"
   ]
  },
  {
   "cell_type": "markdown",
   "metadata": {
    "hidden": true
   },
   "source": [
    "Observations:\n",
    "* A chunk of rating activity is from is from just before 2010. It also seems like rating is likely to take place from mid-week. Earlier days of the month are also the most active."
   ]
  },
  {
   "cell_type": "code",
   "execution_count": 115,
   "metadata": {
    "hidden": true
   },
   "outputs": [
    {
     "data": {
      "image/png": "[encoded data removed]",
      "text/plain": [
       "<Figure size 864x432 with 1 Axes>"
      ]
     },
     "metadata": {},
     "output_type": "display_data"
    }
   ],
   "source": [
    "# Plot showing number of votes per year\n",
    "dt = users.groupby(['years'])['rating'].count().reset_index()\n",
    "fig, (ax) = plt.subplots(ncols=1, figsize=(12,6))\n",
    "plt.plot(dt['years'],dt['rating']); plt.xlabel('Year'); plt.ylabel('Number of votes'); plt.title('Number of votes per year')\n",
    "plt.show()"
   ]
  },
  {
   "cell_type": "markdown",
   "metadata": {
    "hidden": true
   },
   "source": [
    "Observations:\n",
    "* The year 2000 shows a peak in number of votes after a decline from around 1997. From around 2005 we observe a 10 year drop in ratings. An assumption would be that around this period there was an increase in other online activities like gaming etc. which with users having mutliple screens and sources of entertainment. From 2015 we see another sharp increase that tapers off towards 2020.\n"
   ]
  },
  {
   "cell_type": "code",
   "execution_count": 116,
   "metadata": {
    "hidden": true
   },
   "outputs": [
    {
     "data": {
      "image/png": "[encoded data removed]",
      "text/plain": [
       "<Figure size 864x432 with 1 Axes>"
      ]
     },
     "metadata": {},
     "output_type": "display_data"
    }
   ],
   "source": [
    "# Plot showing average ratings for each year\n",
    "dt = users.groupby(['years'])['rating'].mean().reset_index()\n",
    "fig, (ax) = plt.subplots(ncols=1, figsize=(12,6))\n",
    "plt.plot(dt['years'],dt['rating']); plt.xlabel('Year'); plt.ylabel('Average ratings'); plt.title('Average ratings per year')\n",
    "plt.show()"
   ]
  },
  {
   "cell_type": "markdown",
   "metadata": {
    "hidden": true
   },
   "source": [
    "Observations:\n",
    "* Average ratings are just around **3.5**. The period before 1997 is the anormal as average ratings are around 5. This can be explained by the number of votes in this period. They were lower, and users who rated the movies are probably mainly those who felt compelled to vote favorable.\n"
   ]
  },
  {
   "cell_type": "code",
   "execution_count": 118,
   "metadata": {
    "hidden": true
   },
   "outputs": [
    {
     "data": {
      "image/png": "[encoded data removed]",
      "text/plain": [
       "<Figure size 1152x288 with 1 Axes>"
      ]
     },
     "metadata": {},
     "output_type": "display_data"
    }
   ],
   "source": [
    "# boxplot of ratings for each year\n",
    "fig, (ax) = plt.subplots(ncols=1, figsize=(16,4))\n",
    "s = sns.boxplot(x='years', y=\"rating\", data=users, palette=\"GnBu_d\",showfliers=True)\n",
    "plt.show()"
   ]
  },
  {
   "cell_type": "markdown",
   "metadata": {
    "hidden": true
   },
   "source": [
    "Observations:\n",
    "* There are a number of outliers for each year, month and day of week. We observe a strange alignment of the rating distribution per year intervals 1996-2002, **2003-2011(median rating 3.5)** and **2012-2014(median rating 4)** and between **2015 to 2019 median vote is back to 3.5**."
   ]
  },
  {
   "cell_type": "markdown",
   "metadata": {
    "hidden": true
   },
   "source": [
    "<font size=\"3\"><b>Users distribution</b></font><br>\n",
    "Let's check if we have special users (users that give many votes, users that give preponderently high ratings, users that give mostly low ratings, users that are giving the perfect average value). Also, users with only one vote."
   ]
  },
  {
   "cell_type": "code",
   "execution_count": 119,
   "metadata": {
    "hidden": true
   },
   "outputs": [
    {
     "name": "stdout",
     "output_type": "stream",
     "text": [
      "There is a total of 162541 users, with an average number of 62 votes.\n"
     ]
    }
   ],
   "source": [
    "print(\"There is a total of {} users, with an average number of {} votes.\".format(users.userId.nunique(), \\\n",
    "                                                round(users.shape[0]/users.userId.nunique()),2))"
   ]
  },
  {
   "cell_type": "code",
   "execution_count": 120,
   "metadata": {
    "hidden": true
   },
   "outputs": [
    {
     "name": "stdout",
     "output_type": "stream",
     "text": [
      "Top 10 voting users:\n",
      "\n"
     ]
    },
    {
     "data": {
      "text/html": [
       "<div>\n",
       "<style scoped>\n",
       "    .dataframe tbody tr th:only-of-type {\n",
       "        vertical-align: middle;\n",
       "    }\n",
       "\n",
       "    .dataframe tbody tr th {\n",
       "        vertical-align: top;\n",
       "    }\n",
       "\n",
       "    .dataframe thead th {\n",
       "        text-align: right;\n",
       "    }\n",
       "</style>\n",
       "<table border=\"1\" class=\"dataframe\">\n",
       "  <thead>\n",
       "    <tr style=\"text-align: right;\">\n",
       "      <th></th>\n",
       "      <th>Votes</th>\n",
       "      <th>Id</th>\n",
       "    </tr>\n",
       "  </thead>\n",
       "  <tbody>\n",
       "    <tr>\n",
       "      <th>0</th>\n",
       "      <td>12952</td>\n",
       "      <td>72315</td>\n",
       "    </tr>\n",
       "    <tr>\n",
       "      <th>1</th>\n",
       "      <td>3680</td>\n",
       "      <td>80974</td>\n",
       "    </tr>\n",
       "    <tr>\n",
       "      <th>2</th>\n",
       "      <td>3588</td>\n",
       "      <td>137293</td>\n",
       "    </tr>\n",
       "    <tr>\n",
       "      <th>3</th>\n",
       "      <td>3208</td>\n",
       "      <td>33844</td>\n",
       "    </tr>\n",
       "    <tr>\n",
       "      <th>4</th>\n",
       "      <td>3050</td>\n",
       "      <td>20055</td>\n",
       "    </tr>\n",
       "    <tr>\n",
       "      <th>5</th>\n",
       "      <td>2671</td>\n",
       "      <td>109731</td>\n",
       "    </tr>\n",
       "    <tr>\n",
       "      <th>6</th>\n",
       "      <td>2670</td>\n",
       "      <td>49403</td>\n",
       "    </tr>\n",
       "    <tr>\n",
       "      <th>7</th>\n",
       "      <td>2579</td>\n",
       "      <td>92046</td>\n",
       "    </tr>\n",
       "    <tr>\n",
       "      <th>8</th>\n",
       "      <td>2288</td>\n",
       "      <td>110971</td>\n",
       "    </tr>\n",
       "    <tr>\n",
       "      <th>9</th>\n",
       "      <td>2284</td>\n",
       "      <td>30879</td>\n",
       "    </tr>\n",
       "  </tbody>\n",
       "</table>\n",
       "</div>"
      ],
      "text/plain": [
       "   Votes      Id\n",
       "0  12952   72315\n",
       "1   3680   80974\n",
       "2   3588  137293\n",
       "3   3208   33844\n",
       "4   3050   20055\n",
       "5   2671  109731\n",
       "6   2670   49403\n",
       "7   2579   92046\n",
       "8   2288  110971\n",
       "9   2284   30879"
      ]
     },
     "execution_count": 120,
     "metadata": {},
     "output_type": "execute_result"
    }
   ],
   "source": [
    "print(\"Top 10 voting users:\\n\")\n",
    "tmp = users.userId.value_counts()[:10]\n",
    "pd.DataFrame({'Votes':tmp.values, 'Id':tmp.index})"
   ]
  },
  {
   "cell_type": "code",
   "execution_count": 121,
   "metadata": {
    "hidden": true
   },
   "outputs": [
    {
     "name": "stdout",
     "output_type": "stream",
     "text": [
      "There are 1 users that voted only once.\n"
     ]
    }
   ],
   "source": [
    "# Checking users that have only voted once\n",
    "tmp = users.userId.value_counts()\n",
    "df = pd.DataFrame({'Votes':tmp.values, 'Id':tmp.index})\n",
    "print(\"There are {} users that voted only once.\".format(df[df['Votes']==1].nunique().values[0]))"
   ]
  },
  {
   "cell_type": "code",
   "execution_count": 122,
   "metadata": {
    "hidden": true
   },
   "outputs": [
    {
     "name": "stdout",
     "output_type": "stream",
     "text": [
      "Users giving only '5': 423\n",
      "Users giving only '0.5':21\n"
     ]
    }
   ],
   "source": [
    "# CHecking the number of votes for 5 star rating and 0.5 star rating\n",
    "tmp = users.groupby(['userId'])['rating'].mean().reset_index()\n",
    "tmp['rating'] = tmp['rating'].apply(lambda x: round(x,3))\n",
    "df_max = tmp[tmp['rating']==5]\n",
    "df_min = tmp[tmp['rating']==0.5]\n",
    "print(\"Users giving only '5': {}\\nUsers giving only '0.5':{}\".format(df_max.shape[0], df_min.shape[0]))"
   ]
  },
  {
   "cell_type": "code",
   "execution_count": 123,
   "metadata": {
    "hidden": true
   },
   "outputs": [
    {
     "name": "stdout",
     "output_type": "stream",
     "text": [
      "Average value of rating is 3.533.\n",
      "There are 229 users that have their average score with the overall average score (approx. with 3 decimals).\n"
     ]
    }
   ],
   "source": [
    "# Calculating the average rating and comparing users average to this rating \n",
    "mean_rating = round(users['rating'].mean(),3)\n",
    "print(\"Average value of rating is {}.\".format(mean_rating))\n",
    "print(\"There are {} users that have their average score with the overall average score (approx. with 3 decimals).\".format(\\\n",
    "                            tmp[tmp['rating']==mean_rating]['userId'].nunique()))"
   ]
  },
  {
   "cell_type": "markdown",
   "metadata": {},
   "source": [
    "## 7.Modelling\n",
    "<a id='modelling'></a>\n",
    "[Back to Table of Contents](#Table_Contents)<br><br>\n"
   ]
  },
  {
   "cell_type": "markdown",
   "metadata": {},
   "source": [
    "In this section we will be building various models, that we will use to help predict users ratings on movies they have yet to watch.<br>\n",
    "We have included a short description of each model and will summarize our findings in the next section.<br> \n",
    "<br><b>Models being used:</b><br>\n",
    "* Matrix Factorization\n",
    "    * Singular Value Decomposition (SVD)\n",
    "* K-Nearest Neighbors\n",
    "    * KNNWithMeans\n",
    "    * KNNBasic\n",
    "  "
   ]
  },
  {
   "cell_type": "markdown",
   "metadata": {},
   "source": [
    "<font size=\"4\"><b>Collaborative Filtering</b></font><br><br>\n",
    "Model-based Collaborative Filtering is based on matrix factorization (MF) which has received greater exposure, mainly as an unsupervised learning method for \n",
    "latent variable decomposition and dimensionality reduction. \n",
    "Matrix factorization is widely used for recommender systems where it can deal better with scalability and sparsity than Memory-based CF"
   ]
  },
  {
   "cell_type": "markdown",
   "metadata": {},
   "source": [
    "<font size=\"4\"><b>Singular Value Decomposition (SVD)</b></font><br><br>\n",
    "\n",
    "SVD in the context of recommendation systems is used as a collaborative filtering (CF) algorithm. Collaborative filtering is a method to predict a rating for a user item pair based on the history of ratings given by the user and given to the item. Most CF algorithms are based on user-item rating matrix where each row represents a user, each column an item. The entries of this matrix are ratings given by users to items.<br>\n",
    "\n",
    "SVD is a matrix factorization technique that is usually used to reduce the number of features of a data set by reducing space dimensions from N to K where K < N. <br>\n",
    "\n",
    "<b>Advantages :</b>\n",
    "* Can be used on a large dataset.\n",
    "* Takes into account Principal Component Analysis (PCA).\n",
    "* Uses matrix and applies dimensionality reduction."
   ]
  },
  {
   "cell_type": "markdown",
   "metadata": {},
   "source": [
    "Loading datasets for SVD model"
   ]
  },
  {
   "cell_type": "code",
   "execution_count": null,
   "metadata": {},
   "outputs": [],
   "source": [
    "#Initialising a reader to read in and load data from the train df for use in our SVD model\n",
    "reader = Reader(rating_scale = (0.5, 5))\n",
    "data = Dataset.load_from_df(train[['userId','movieId','rating']], reader)\n",
    "#building a full train set for our Kaggle Submission \n",
    "train_set = data.build_full_trainset()"
   ]
  },
  {
   "cell_type": "markdown",
   "metadata": {},
   "source": [
    "Splitting the ratings dataset into train and test sets"
   ]
  },
  {
   "cell_type": "code",
   "execution_count": null,
   "metadata": {},
   "outputs": [],
   "source": [
    "trainset,testset = train_test_split(data,test_size=0.2,random_state=42)"
   ]
  },
  {
   "cell_type": "markdown",
   "metadata": {},
   "source": [
    "Initialising the SVD model and fitting the train set"
   ]
  },
  {
   "cell_type": "code",
   "execution_count": null,
   "metadata": {},
   "outputs": [],
   "source": [
    "model = SVD()\n",
    "model.fit(trainset)"
   ]
  },
  {
   "cell_type": "markdown",
   "metadata": {},
   "source": [
    "Making predictions and calculating the local rmse "
   ]
  },
  {
   "cell_type": "code",
   "execution_count": null,
   "metadata": {},
   "outputs": [],
   "source": [
    "model.predict('userId','itemId')\n",
    "predictions = model.test(testset)\n",
    "accuracy.rmse(predictions)"
   ]
  },
  {
   "cell_type": "markdown",
   "metadata": {},
   "source": [
    "<font size=\"4\"><b>K-Nearest Neighbors Algorithms</b></font><br><br>\n",
    "The k-nearest neighbors (KNN) algorithm is a simple, supervised machine learning algorithm that can be used to solve both classification and regression problems. It’s easy to implement and understand, but has a major drawback of becoming significantly slows as the size of that data in use grows.\n",
    "\n",
    "KNN works by finding the distances between a query and all the examples in the data, selecting the specified number examples (K) closest to the query, then votes for the most frequent label (in the case of classification) or averages the labels (in the case of regression).<br><br> \n",
    "\n",
    "<b>Advantages :</b>\n",
    "\n",
    "* The algorithm is simple and easy to implement.\n",
    "* There’s no need to build a model, tune several parameters, or make additional assumptions.\n",
    "* The algorithm is versatile. It can be used for classification, regression, and search."
   ]
  },
  {
   "cell_type": "markdown",
   "metadata": {},
   "source": [
    "<b>User-User Collaborative Filtering:</b> Here we find look alike users based on similarity and recommend movies which first user’s look-alike has chosen in past. \n",
    "This algorithm is very effective but takes a lot of time and resources. It requires to compute every user pair information which takes time. \n",
    "\n",
    "\n",
    "<b>Item-Item Collaborative Filtering:</b> Here we look at finding movie's look-alike. \n",
    "Once we have movie’s look-alike matrix, we can easily recommend alike movies to user who have rated any movie from the dataset. \n",
    "This algorithm is far less resource consuming than user-user collaborative filtering.  \n",
    "And with fixed number of movies, movie-movie look alike matrix is fixed over time."
   ]
  },
  {
   "cell_type": "markdown",
   "metadata": {},
   "source": [
    "In order to use the various k-NN models, we need to create a subset of our train dataset as this model cannot handle the full dataset unlike the SVD model.<br>\n",
    "This subset will include the most common users and movies."
   ]
  },
  {
   "cell_type": "code",
   "execution_count": null,
   "metadata": {},
   "outputs": [],
   "source": [
    "#Find the common ids of movies and users to add to the subset dataset\n",
    "#We will be taking the 2700 of the top users and 650 of the top movies\n",
    "uid= [u for u,c in Counter(train.userId).most_common(2700)]\n",
    "mid = [m for m,c in Counter(train.movieId).most_common(650)]"
   ]
  },
  {
   "cell_type": "code",
   "execution_count": null,
   "metadata": {},
   "outputs": [],
   "source": [
    "#Create a subset df\n",
    "subset_df = train[train.userId.isin(uid) & train.movieId.isin(mid)]"
   ]
  },
  {
   "cell_type": "code",
   "execution_count": null,
   "metadata": {},
   "outputs": [],
   "source": [
    "#We have reduced the train dataset to ~430000 rows\n",
    "len(subset_df)"
   ]
  },
  {
   "cell_type": "code",
   "execution_count": null,
   "metadata": {},
   "outputs": [],
   "source": [
    "#Initialising a reader to read in and load data from the subset train\n",
    "reader = Reader(rating_scale = (0.5, 5))\n",
    "#Load the data from the subset dataframe\n",
    "subset_data = Dataset.load_from_df(subset_df[['userId','movieId','rating']], reader)\n",
    "\n",
    "#Split the subset dataset into training and testing \n",
    "subset_train,subset_test = train_test_split(subset_data, test_size = 0.2, random_state = 42)"
   ]
  },
  {
   "cell_type": "markdown",
   "metadata": {},
   "source": [
    "<font size=\"3\"><b>KNNWithMeans Algorithm</b></font><br><br>\n",
    "Now we can explore the KNNWithMeans algorithm and see how the cosine similarity it applies for both user and item based  collaborative filtering works on our subset of data, by viewing the RMSE. <br><br>\n",
    "First we will apply the item-based algorithm of the KNNWithMeans."
   ]
  },
  {
   "cell_type": "code",
   "execution_count": null,
   "metadata": {},
   "outputs": [],
   "source": [
    "#Initialising KNNWithMeans model using cosine similarity matrix item-based approach\n",
    "KNN_item = KNNWithMeans(sim_options = {\"name\" : \"cosine\", \"user_based\" : False})"
   ]
  },
  {
   "cell_type": "code",
   "execution_count": null,
   "metadata": {},
   "outputs": [],
   "source": [
    "#Fit the model to training subset\n",
    "KNN_item.fit(subset_train)\n",
    "#Make predictions on the testing subset\n",
    "predictions_knn_item = KNN_item.test(subset_test)"
   ]
  },
  {
   "cell_type": "code",
   "execution_count": null,
   "metadata": {},
   "outputs": [],
   "source": [
    "#Calculating the RMSE\n",
    "rmse_knn_item = accuracy.rmse(predictions_knn_item)\n",
    "rmse_knn_item"
   ]
  },
  {
   "cell_type": "markdown",
   "metadata": {},
   "source": [
    "Now to apply the KNNWithMeans user-based algorithm"
   ]
  },
  {
   "cell_type": "code",
   "execution_count": null,
   "metadata": {},
   "outputs": [],
   "source": [
    "#Initialising KNNWithMeans model using cosine similarity matrix user-based approach\n",
    "KNN_user = KNNWithMeans(sim_options = {\"name\" : \"cosine\", \"user_based\" : True})"
   ]
  },
  {
   "cell_type": "code",
   "execution_count": null,
   "metadata": {},
   "outputs": [],
   "source": [
    "#Fit the model to training subset\n",
    "KNN_user.fit(subset_train)\n",
    "#Make predictions on the testing subset\n",
    "predictions_knn_user = KNN_user.test(subset_test)"
   ]
  },
  {
   "cell_type": "code",
   "execution_count": null,
   "metadata": {},
   "outputs": [],
   "source": [
    "#Calculating the RMSE\n",
    "rmse_knn_user = accuracy.rmse(predictions_knn_user)\n",
    "rmse_knn_user"
   ]
  },
  {
   "cell_type": "markdown",
   "metadata": {},
   "source": [
    "<font size=\"3\"><b>KNNBasic Algorithm</b></font><br><br>\n",
    "We will be following similar steps as the KnnWithMeans model to see how the KnnBasic performs.<br>\n",
    "Starting with the item-based approach."
   ]
  },
  {
   "cell_type": "code",
   "execution_count": null,
   "metadata": {},
   "outputs": [],
   "source": [
    "#Initialising KnnBasic model using cosine similarity matrix item-based approach\n",
    "knnbasic_item = KNNBasic(sim_options = {\"name\" : \"cosine\", \"user_based\" : False})"
   ]
  },
  {
   "cell_type": "code",
   "execution_count": null,
   "metadata": {},
   "outputs": [],
   "source": [
    "#Fit the model to training subset\n",
    "knnbasic_item.fit(subset_train)\n",
    "#Make predictions on the testing subset\n",
    "predictions_knnbasic_item = knnbasic_item.test(subset_test)"
   ]
  },
  {
   "cell_type": "code",
   "execution_count": null,
   "metadata": {},
   "outputs": [],
   "source": [
    "#Calculating the RMSE\n",
    "rmse_knnbasic_item = accuracy.rmse(predictions_knnbasic_item)\n",
    "rmse_knnbasic_item"
   ]
  },
  {
   "cell_type": "markdown",
   "metadata": {},
   "source": [
    "Now to apply the KnnBasic user-based algorithm."
   ]
  },
  {
   "cell_type": "code",
   "execution_count": null,
   "metadata": {},
   "outputs": [],
   "source": [
    "#Initialising KnnBasic model using cosine similarity matrix user-based approach\n",
    "knnbasic_user = KNNBasic(sim_options = {\"name\" : \"cosine\", \"user_based\" : True})"
   ]
  },
  {
   "cell_type": "code",
   "execution_count": null,
   "metadata": {},
   "outputs": [],
   "source": [
    "#Fit the model to training subset\n",
    "knnbasic_user.fit(subset_train)\n",
    "#Make predictions on the testing subset\n",
    "predictions_knnbasic_user = knnbasic_user.test(subset_test)"
   ]
  },
  {
   "cell_type": "code",
   "execution_count": null,
   "metadata": {},
   "outputs": [],
   "source": [
    "#Calculating the RMSE\n",
    "rmse_knnbasic_user = accuracy.rmse(predictions_knnbasic_user)\n",
    "rmse_knnbasic_user"
   ]
  },
  {
   "cell_type": "markdown",
   "metadata": {
    "heading_collapsed": true
   },
   "source": [
    "## 7.Performance Optimization  \n",
    "<a id='performance'></a>\n",
    "[Back to Table of Contents](#Table_Contents)"
   ]
  },
  {
   "cell_type": "markdown",
   "metadata": {
    "hidden": true
   },
   "source": [
    "Below we will use a GridSearchSV to optimise our SVD model by finding the optimal parameters. "
   ]
  },
  {
   "cell_type": "code",
   "execution_count": null,
   "metadata": {
    "hidden": true
   },
   "outputs": [],
   "source": [
    "#Using GridSearchCV to find the optimal parameters\n",
    "param_grid = {'n_factors':[90,130],'n_epochs':[75,150],  \n",
    "              'lr_all':[0.005,0.01],'reg_all':[0.02,0.1]}\n",
    "gs = GridSearchCV(SVD, param_grid, measures=['rmse'], cv=3)\n",
    "gs.fit(data)\n",
    "params = gs.best_params['rmse']"
   ]
  },
  {
   "cell_type": "markdown",
   "metadata": {
    "hidden": true
   },
   "source": [
    "Based on our GridSearch, we know that the optimal parameters are as follows: <br>\n",
    "params = {'n_factors' : 90, 'n_epochs' : 150, 'lr_all' : 0.01, 'reg_all' : 0.1}  "
   ]
  },
  {
   "cell_type": "markdown",
   "metadata": {
    "hidden": true
   },
   "source": [
    "Now we can user the parameters found above in our SVD model to see how it affects the RMSE."
   ]
  },
  {
   "cell_type": "code",
   "execution_count": null,
   "metadata": {
    "hidden": true
   },
   "outputs": [],
   "source": [
    "model_tuned = SVD(n_factors = 90, n_epochs = 150, lr_all = 0.01, reg_all = 0.1)\n",
    "model_tuned.fit(trainset) "
   ]
  },
  {
   "cell_type": "markdown",
   "metadata": {
    "hidden": true
   },
   "source": [
    "Making predictions and calculating the local RMSE"
   ]
  },
  {
   "cell_type": "code",
   "execution_count": null,
   "metadata": {
    "hidden": true
   },
   "outputs": [],
   "source": [
    "model_tuned.predict('userId','itemId')\n",
    "predictions_tuned = model_tuned.test(testset)\n",
    "accuracy.rmse(predictions_tuned)"
   ]
  },
  {
   "cell_type": "markdown",
   "metadata": {},
   "source": [
    "## 9.Model Performance\n",
    "<a id='model_performance'></a>\n",
    "[Back to Table of Contents](#Table_Contents)<br><br> "
   ]
  },
  {
   "cell_type": "markdown",
   "metadata": {},
   "source": [
    "Let us view the results of the item based and user based approaches of the KNNWithMeans algorithm and the KNNBasic Algorithm."
   ]
  },
  {
   "cell_type": "code",
   "execution_count": null,
   "metadata": {},
   "outputs": [],
   "source": [
    "#Visualising and comparing the RMSE of the KNNWithMeans and the KNNBasic model\n",
    "plt.subplots(figsize=(11, 6))\n",
    "x_var = ['KnnWithMeans User-based','KnnWithMeans Item-based','KnnBasic User-based','KnnBasic Item-based']\n",
    "y_var = [rmse_knn_user,rmse_knn_item,rmse_knnbasic_user,rmse_knnbasic_item]\n",
    "ax = sns.barplot(x = x_var, y = y_var, palette = 'GnBu_d')\n",
    "plt.title('Comparison of user-based and item-based of KNNWithMeans and KNNBasic',fontsize = 14)\n",
    "plt.ylabel('RMSE')\n",
    "for a in ax.patches:\n",
    "    ax.text(a.get_x() + a.get_width()/2, a.get_y() + a.get_height(),round(a.get_height(),4),fontsize=12, ha=\"center\", va='bottom')\n",
    "    \n",
    "plt.show()"
   ]
  },
  {
   "cell_type": "code",
   "execution_count": null,
   "metadata": {},
   "outputs": [],
   "source": [
    "#Line plot of RMSE of k-NN models user and item based \n",
    "x_algo = ['KnnWithMeans User-based','KnnWithMeans Item-based','KnnBasic User-based','KnnBasic Item-based']\n",
    "all_algos_cv = [rmse_knn_user,rmse_knn_item,rmse_knnbasic_user,rmse_knnbasic_item]\n",
    "\n",
    "plt.figure(figsize=(20,5))\n",
    "plt.title('Comparison of k-NN Algorithms Item and User based on RMSE', loc='center', fontsize=15)\n",
    "plt.plot(x_algo, all_algos_cv, label='RMSE', color='darkblue', marker='o')\n",
    "plt.xlabel('Algorithms', fontsize=15)\n",
    "plt.ylabel('RMSE Value', fontsize=15)\n",
    "plt.legend()\n",
    "plt.grid(ls='dashed')\n",
    "\n",
    "plt.show()"
   ]
  },
  {
   "cell_type": "markdown",
   "metadata": {},
   "source": [
    "Based on the analysis of the above graphs, we notice that the item based approach of the two k-NN models perform better than thier user based counterparts. This is due to the item approach being far less resource consuming than the user approach. Another key difference, is that the KnnWithMeans Algorithms performs significantly better than the KNNBasic Algorithm.<br><br>\n",
    "<b>Limitations of the Knn Algorithms :</b>\n",
    "* <b>Does not work well with large dataset:</b> In large datasets, the cost of calculating the distance between the new point and each existing points is huge which degrades the performance of the algorithm.<br><br>\n",
    "* <b>Does not work well with high dimensions:</b> The KNN algorithm doesn't work well with high dimensional data because with large number of dimensions, it becomes difficult for the algorithm to calculate the distance in each dimension.<br><br>\n",
    "* <b>Sensitive to noisy data, missing values and outliers:</b> KNN is sensitive to noise in the dataset. We need to manually impute missing values and remove outliers.<br><br>\n",
    "\n",
    "Based on these limitations we have gone ahead and chose the SVD as the main approach in predicting ratings. This is due to the SVD being able to hand larger datasets and encorporting dimensionality reduction as well as PCA."
   ]
  },
  {
   "cell_type": "markdown",
   "metadata": {},
   "source": [
    "We will now take a look at theperformance of the SVD model before and after tuning it's parameters."
   ]
  },
  {
   "cell_type": "code",
   "execution_count": null,
   "metadata": {},
   "outputs": [],
   "source": [
    "#Visualising RMSE of SVD model before and after tuning\n",
    "x = [u'SVD', u'SVD tuned']\n",
    "y = [round(accuracy.rmse(predictions),3), round(accuracy.rmse(predictions1),3)]\n",
    "\n",
    "fig, ax = plt.subplots(figsize=(10, 3))    \n",
    "width = 0.2 # the width of the bars \n",
    "ind = np.arange(len(y))  # the x locations for the groups\n",
    "ax.barh(ind, y, width, color = \"skyblue\")\n",
    "ax.set_yticks(ind+width/12)\n",
    "ax.set_yticklabels(x, minor = False)\n",
    "plt.title('Comparison of SVD RMSE before and after tuning')\n",
    "plt.xlabel('RMSE')\n",
    "plt.ylabel('Models')\n",
    "for i, v in enumerate(y):\n",
    "    ax.text(v , i , str(v), color = 'blue', fontweight = 'bold')\n",
    "plt.show() "
   ]
  },
  {
   "cell_type": "markdown",
   "metadata": {},
   "source": [
    "As we can see from the above graph, the RMSE of the SVD model has decreased after tuning it with parameters found in the GridSearchSV. For our Kaggle submission we will be using this tuned SVD model fitted on the full trainset as this will allow the model to predict more precisely since it is training on a larger dataset."
   ]
  },
  {
   "cell_type": "markdown",
   "metadata": {},
   "source": [
    "## 9.Recommender Systems\n",
    "<a id='recommender'></a>\n",
    "[Back to Table of Contents](#Table_Contents)<br><br> "
   ]
  },
  {
   "cell_type": "markdown",
   "metadata": {},
   "source": [
    "<font size=\"4\"><b>Content Based Recommendation</b></font><br><br>\n",
    "The content based recommender system built below uses a cosine similarity matrix to find similarities in movies based on three previously watched movies. The recommender system relies on the properties of the movies in the dataset to make comparisons. \n",
    "\n",
    "We will be using the movie data (genre) as well as the imdb data set (actors, directors and the keywords)."
   ]
  },
  {
   "cell_type": "code",
   "execution_count": 132,
   "metadata": {},
   "outputs": [],
   "source": [
    "# Loading in required datasets again as to not alter ones currently being used \n",
    "imdb = pd.read_csv('imdb_data.csv')\n",
    "movies = pd.read_csv('movies.csv')\n",
    "movies_data = movies.copy()\n",
    "imdb_data = imdb.copy()"
   ]
  },
  {
   "cell_type": "code",
   "execution_count": 133,
   "metadata": {},
   "outputs": [],
   "source": [
    "# Split genre data into individual words.\n",
    "movies_data['genres'] = movies_data['genres'].str.replace('|', ' ').str.lower()\n",
    "\n",
    "# create a separate column for the year\n",
    "movies_data['year'] = movies_data.title.str.extract('(\\(\\d\\d\\d\\d\\))',expand=False)\n",
    "movies_data['year'] = movies_data.year.str.extract('(\\d\\d\\d\\d)',expand=False)\n",
    "movies_data.year.fillna(value=0,inplace=True)\n",
    "\n",
    "movies_data['title_101'] = movies_data.title.str.replace('(\\(\\d\\d\\d\\d\\))', '')\n",
    "\n",
    "movies_data['title_gen_yr'] = pd.Series(movies_data[['title_101', 'genres',\n",
    "                                'year']].values.tolist()).str.join(' ')\n",
    "\n",
    "movies_data.genres = movies_data['title_gen_yr']\n",
    "movies_data.drop(['title_101','year','title_gen_yr'],axis=1,inplace=True)"
   ]
  },
  {
   "cell_type": "code",
   "execution_count": 134,
   "metadata": {},
   "outputs": [
    {
     "data": {
      "text/html": [
       "<div>\n",
       "<style scoped>\n",
       "    .dataframe tbody tr th:only-of-type {\n",
       "        vertical-align: middle;\n",
       "    }\n",
       "\n",
       "    .dataframe tbody tr th {\n",
       "        vertical-align: top;\n",
       "    }\n",
       "\n",
       "    .dataframe thead th {\n",
       "        text-align: right;\n",
       "    }\n",
       "</style>\n",
       "<table border=\"1\" class=\"dataframe\">\n",
       "  <thead>\n",
       "    <tr style=\"text-align: right;\">\n",
       "      <th></th>\n",
       "      <th>movieId</th>\n",
       "      <th>title_cast</th>\n",
       "      <th>director</th>\n",
       "      <th>runtime</th>\n",
       "      <th>budget</th>\n",
       "      <th>plot_keywords</th>\n",
       "    </tr>\n",
       "  </thead>\n",
       "  <tbody>\n",
       "    <tr>\n",
       "      <th>0</th>\n",
       "      <td>1</td>\n",
       "      <td>Tom Hanks|Tim Allen|Don Rickles|Jim Varney|Wal...</td>\n",
       "      <td>John Lasseter</td>\n",
       "      <td>81.0</td>\n",
       "      <td>$30,000,000</td>\n",
       "      <td>toy|rivalry|cowboy|cgi animation</td>\n",
       "    </tr>\n",
       "    <tr>\n",
       "      <th>1</th>\n",
       "      <td>2</td>\n",
       "      <td>Robin Williams|Jonathan Hyde|Kirsten Dunst|Bra...</td>\n",
       "      <td>Jonathan Hensleigh</td>\n",
       "      <td>104.0</td>\n",
       "      <td>$65,000,000</td>\n",
       "      <td>board game|adventurer|fight|game</td>\n",
       "    </tr>\n",
       "    <tr>\n",
       "      <th>2</th>\n",
       "      <td>3</td>\n",
       "      <td>Walter Matthau|Jack Lemmon|Sophia Loren|Ann-Ma...</td>\n",
       "      <td>Mark Steven Johnson</td>\n",
       "      <td>101.0</td>\n",
       "      <td>$25,000,000</td>\n",
       "      <td>boat|lake|neighbor|rivalry</td>\n",
       "    </tr>\n",
       "    <tr>\n",
       "      <th>3</th>\n",
       "      <td>4</td>\n",
       "      <td>Whitney Houston|Angela Bassett|Loretta Devine|...</td>\n",
       "      <td>Terry McMillan</td>\n",
       "      <td>124.0</td>\n",
       "      <td>$16,000,000</td>\n",
       "      <td>black american|husband wife relationship|betra...</td>\n",
       "    </tr>\n",
       "    <tr>\n",
       "      <th>4</th>\n",
       "      <td>5</td>\n",
       "      <td>Steve Martin|Diane Keaton|Martin Short|Kimberl...</td>\n",
       "      <td>Albert Hackett</td>\n",
       "      <td>106.0</td>\n",
       "      <td>$30,000,000</td>\n",
       "      <td>fatherhood|doberman|dog|mansion</td>\n",
       "    </tr>\n",
       "  </tbody>\n",
       "</table>\n",
       "</div>"
      ],
      "text/plain": [
       "   movieId                                         title_cast  \\\n",
       "0        1  Tom Hanks|Tim Allen|Don Rickles|Jim Varney|Wal...   \n",
       "1        2  Robin Williams|Jonathan Hyde|Kirsten Dunst|Bra...   \n",
       "2        3  Walter Matthau|Jack Lemmon|Sophia Loren|Ann-Ma...   \n",
       "3        4  Whitney Houston|Angela Bassett|Loretta Devine|...   \n",
       "4        5  Steve Martin|Diane Keaton|Martin Short|Kimberl...   \n",
       "\n",
       "              director  runtime       budget  \\\n",
       "0        John Lasseter     81.0  $30,000,000   \n",
       "1   Jonathan Hensleigh    104.0  $65,000,000   \n",
       "2  Mark Steven Johnson    101.0  $25,000,000   \n",
       "3       Terry McMillan    124.0  $16,000,000   \n",
       "4       Albert Hackett    106.0  $30,000,000   \n",
       "\n",
       "                                       plot_keywords  \n",
       "0                   toy|rivalry|cowboy|cgi animation  \n",
       "1                   board game|adventurer|fight|game  \n",
       "2                         boat|lake|neighbor|rivalry  \n",
       "3  black american|husband wife relationship|betra...  \n",
       "4                    fatherhood|doberman|dog|mansion  "
      ]
     },
     "execution_count": 134,
     "metadata": {},
     "output_type": "execute_result"
    }
   ],
   "source": [
    "imdb.head()"
   ]
  },
  {
   "cell_type": "markdown",
   "metadata": {},
   "source": [
    "In the code cell below, we define a recommender_ function which creates a list of the top movies to recommend. The selection is based on the cosine similarity between the selected movies and the rest of the movies in the dataset. This function is defined within a content_based_recommendation function which uses the recommender_ function to compile the top_n movies that the user would likely be willing to watch."
   ]
  },
  {
   "cell_type": "code",
   "execution_count": null,
   "metadata": {},
   "outputs": [],
   "source": [
    "def content_based_recommendation(movie_list,top_n=10):\n",
    "    \"\"\"Performs Content filtering based upon a list of movies supplied\n",
    "       by the app user.\n",
    "\n",
    "    Parameters\n",
    "    ----------\n",
    "    movie_list : list (str)\n",
    "        Favorite movies chosen by the app user.\n",
    "    top_n : type\n",
    "        Number of top recommendations to return to the user.\n",
    "\n",
    "    Returns\n",
    "    -------\n",
    "    list (str)\n",
    "        Titles of the top-n movie recommendations to the user.\n",
    "\n",
    "    \"\"\"\n",
    "    \n",
    "\n",
    "    def recommender_(start=0,end=10420,col='genres'):\n",
    "        '''Creates a list of movies to recommend.\n",
    "\n",
    "        Parameters\n",
    "        ----------\n",
    "        start: int\n",
    "            Value to start slicing from.\n",
    "        end: int\n",
    "            Value to end slicing.\n",
    "        col: str\n",
    "            A name of a column to be used for similarity comparison;\n",
    "            with the default column being 'genre'.\n",
    "\n",
    "        Returns\n",
    "        -------\n",
    "        list (tuples)\n",
    "            Returns a tuple with the movie name and the similarity score.\n",
    "        '''\n",
    "        # Initializing the empty list of recommended movies\n",
    "        recommended_movies = []\n",
    "        # create a subset of the data to be used\n",
    "        data = movies[start:end]\n",
    "\n",
    "        # make sure the subset of data entails the selected movies\n",
    "        search = [name for name in data.title]\n",
    "\n",
    "        for movie_title in movie_list:\n",
    "            if movie_title not in search:\n",
    "                mini_data = movies[movies.title==movie_title]\n",
    "                data = pd.concat([mini_data,data])\n",
    "\n",
    "        # create a pd.Series object which stores the\n",
    "        # indices of the movies in the subset\n",
    "        indices = pd.Series(data.title)\n",
    "        indices.index = [i for i in range(len(indices))]\n",
    "\n",
    "        # Instantiating and generating the tf-idf matrix\n",
    "        tf = TfidfVectorizer(analyzer='word', ngram_range=(1,2),\n",
    "                         min_df=0, stop_words='english')\n",
    "\n",
    "        # with TF-IDF features as columns \n",
    "        tf_genre_matrix = tf.fit_transform(data[col])\n",
    "        cosine_sim = cosine_similarity(tf_genre_matrix, \n",
    "                                        tf_genre_matrix)\n",
    "\n",
    "        # Getting the index of the movie that matches the title\n",
    "        idx_1 = indices[indices == movie_list[0]].index[0]\n",
    "        idx_2 = indices[indices == movie_list[1]].index[0]\n",
    "        idx_3 = indices[indices == movie_list[2]].index[0]\n",
    "\n",
    "        # Creating a Series with the similarity scores in descending order\n",
    "        rank_1 = cosine_sim[idx_1]\n",
    "        rank_2 = cosine_sim[idx_2]\n",
    "        rank_3 = cosine_sim[idx_3]\n",
    "\n",
    "        # Calculating the scores\n",
    "        score_series_1 = pd.Series(rank_1).sort_values(ascending = False)\n",
    "        score_series_2 = pd.Series(rank_2).sort_values(ascending = False)\n",
    "        score_series_3 = pd.Series(rank_3).sort_values(ascending = False)\n",
    "\n",
    "        # Getting the indexes of the 10 most similar movies\n",
    "        listings = score_series_1.append(score_series_2).append(\n",
    "                    score_series_3).sort_values(ascending = False)\n",
    "\n",
    "        # Appending the index and similarity scores\n",
    "        top_50_indexes = list(listings.iloc[0:50].index)\n",
    "        top_50_values = list(listings.iloc[0:50].values)\n",
    "\n",
    "        # find the top 50 scores without the selected movies\n",
    "        top_50 = {}\n",
    "        for i in range(50):\n",
    "            if top_50_indexes[i] not in [idx_1,idx_2,idx_3]:\n",
    "                top_50[top_50_indexes[i]] = top_50_values[i]\n",
    "\n",
    "        # find the top_n movies\n",
    "        top_10 = []\n",
    "        for i,pair in enumerate(top_50.items()):\n",
    "            if i<top_n:\n",
    "                top_10.append((movies.title.loc[pair[0]],pair[-1]))\n",
    "            else:\n",
    "                break\n",
    "\n",
    "        return top_10\n",
    "    \n",
    "    # create a start and end variable for slicing\n",
    "    start, end = 0, 10420\n",
    "    result = [] # empty list to store top movies\n",
    "    \n",
    "    # use the recommender function to find the top_n movies per subset\n",
    "    for i in range(6):\n",
    "        movies_found = recommender_(start,end)\n",
    "        # check if the movie is notin the result list already\n",
    "        for mov in movies_found:\n",
    "            if mov[0] not in result:\n",
    "                result.append(mov)\n",
    "        end += 10420\n",
    "        start += 10420\n",
    "    \n",
    "    # sort the movies according to similarity and return the top_n movies\n",
    "    result = dict(sorted(dict(result).items(), key=lambda x:x[-1],\n",
    "                         reverse=True))\n",
    "        \n",
    "    return [recommended for recommended in result.keys()][:top_n]"
   ]
  },
  {
   "cell_type": "markdown",
   "metadata": {},
   "source": [
    "Make predictions of the movies that the user might like to watch, given three movies that they have watched before."
   ]
  },
  {
   "cell_type": "code",
   "execution_count": null,
   "metadata": {},
   "outputs": [],
   "source": [
    "# select 3 movies (movies that have been watched before)\n",
    "watched_movies = [movies_data.title[565],\n",
    "              movies_data.title[5951],\n",
    "              movies_data.title[50101]]\n",
    "\n",
    "# display the names of the movies selected\n",
    "count = ['first','second','third']\n",
    "for i,movie_name in enumerate(watched_movies):\n",
    "    print(f'The {count[i]} movie:\\t{movie_name}')\n",
    "\n",
    "# store the top_n recommended movies\n",
    "recommended_movies = content_based_recommendation(\n",
    "                        movie_list=watched_movies,top_n=10)"
   ]
  },
  {
   "cell_type": "code",
   "execution_count": null,
   "metadata": {},
   "outputs": [],
   "source": [
    "# movies recommended by the content based algorithm\n",
    "recommended_movies"
   ]
  },
  {
   "cell_type": "markdown",
   "metadata": {},
   "source": [
    "Given the movies Foreign Student (1994), May (2002) and Hotel Salvation (2016), the content_based_recommendation function was able to make predictions of the top 10 movies that the user might also like to watch. This is based on the cosine similarities of the movies selected."
   ]
  },
  {
   "cell_type": "markdown",
   "metadata": {},
   "source": [
    "<font size=\"4\"><b>Collaborative Based Recommendation</b></font><br><br>\n",
    "For this system we will look at the ratings of users that have watched any three movies selected. The next step is to look at the movies that these users have watched based on the high ratings. We then take these movies and create a matrix, apply cosine similarity and look at the highly weighteed movies. These highly weighted movies will then be recommended."
   ]
  },
  {
   "cell_type": "code",
   "execution_count": null,
   "metadata": {},
   "outputs": [],
   "source": [
    "#merging ratings and movies datasets \n",
    "movietitle = pd.merge(train,movies, on= 'movieId', how = 'left')\n",
    "movietitle = movietitle.drop(['genres','rating','userId','timestamp'], axis = 1)\n",
    "movietitle = movietitle.drop_duplicates()\n",
    "movietitle = movietitle.dropna()"
   ]
  },
  {
   "cell_type": "code",
   "execution_count": null,
   "metadata": {},
   "outputs": [],
   "source": [
    "def prediction_item(item_id):\n",
    "    \"\"\"Map a given favourite movie to users within the\n",
    "       MovieLens dataset with the same preference.\n",
    "\n",
    "    Parameters\n",
    "    ----------\n",
    "    item_id : int\n",
    "        A MovieLens Movie ID.\n",
    "\n",
    "    Returns\n",
    "    -------\n",
    "    list\n",
    "        User IDs of users with similar high ratings for the given movie.\n",
    "\n",
    "    \"\"\"\n",
    "    # Data preprosessing\n",
    "    reader = Reader(rating_scale=(0, 5))\n",
    "    load_df = Dataset.load_from_df(train[['userId','movieId','rating']],reader)\n",
    "    a_train = load_df.build_full_trainset()\n",
    "\n",
    "    predictions = []\n",
    "    for ui in a_train.all_users():\n",
    "        predictions.append(model_tuned.predict(iid=item_id,uid=ui, verbose = False))\n",
    "    return predictions"
   ]
  },
  {
   "cell_type": "code",
   "execution_count": null,
   "metadata": {},
   "outputs": [],
   "source": [
    "def pred_movies(movie_list):\n",
    "    \"\"\"Maps the given favourite movies selected within the app to corresponding\n",
    "    users within the MovieLens dataset.\n",
    "\n",
    "    Parameters\n",
    "    ----------\n",
    "    movie_list : list\n",
    "        Three favourite movies selected by the app user.\n",
    "\n",
    "    Returns\n",
    "    -------\n",
    "    list\n",
    "        User-ID's of users with similar high ratings for each movie.\n",
    "\n",
    "    \"\"\"\n",
    "    # Store the id of users\n",
    "    id_store=[]\n",
    "    # For each movie selected by a user of the app,\n",
    "    # predict a corresponding user within the dataset with the highest rating\n",
    "    for i in movie_list:\n",
    "        #movie_id = movietitle[movietitle['title'] == i]['movieId'].values[0]\n",
    "        predictions = prediction_item(item_id = i)\n",
    "        predictions.sort(key=lambda x: x.est, reverse=True)\n",
    "        # Take the top 10 user id's from each movie with highest rankings\n",
    "        for pred in predictions[:10]:\n",
    "            id_store.append(pred.uid)\n",
    "    # Return a list of user id's\n",
    "    return id_store"
   ]
  },
  {
   "cell_type": "code",
   "execution_count": null,
   "metadata": {},
   "outputs": [],
   "source": [
    "def collab_model(movie_list,top_n=10):\n",
    "    \"\"\"Performs Collaborative filtering based upon a list of movies supplied\n",
    "       by the app user.\n",
    "\n",
    "    Parameters\n",
    "    ----------\n",
    "    movie_list : list (str)\n",
    "        Favorite movies chosen by the app user.\n",
    "    top_n : type\n",
    "        Number of top recommendations to return to the user.\n",
    "\n",
    "    Returns\n",
    "    -------\n",
    "    list (str)\n",
    "        Titles of the top-n movie recommendations to the user.\n",
    "\n",
    "    \"\"\"\n",
    "    indices1 = pd.Series(movies['title'])\n",
    "    movie_ids = pred_movies(movie_list)\n",
    "    df_init_users = train[train['userId']==movie_ids[0]]\n",
    "    for i in movie_ids[1:]:\n",
    "        df_init_users=df_init_users.append(train[train['userId']==i])\n",
    "        \n",
    "    # Getting the user-item matrix\n",
    "    df_init_users = pd.merge(df_init_users, movietitle, on = 'movieId', how = 'left')\n",
    "    df_init_users = df_init_users.dropna()\n",
    "    users_matrix = df_init_users.groupby(['title','userId'])['rating'].max().unstack()\n",
    "    for i in movie_list:\n",
    "        if i not in users_matrix.index.values.tolist():\n",
    "            df_nan = pd.DataFrame([[(np.NaN)]*len(users_matrix.columns)], index = [i], columns = users_matrix.columns)\n",
    "            users_matrix = users_matrix.append(df_nan)\n",
    "            \n",
    "    # Getting the cosine similarity matrix\n",
    "    cosine_sim = cosine_similarity(users_matrix.fillna(0))\n",
    "    indices = pd.Series(users_matrix.index)\n",
    "    idx_1 = indices[indices == movie_list[0]].index[0]\n",
    "    idx_2 = indices[indices == movie_list[1]].index[0]\n",
    "    idx_3 = indices[indices == movie_list[2]].index[0]\n",
    "    \n",
    "    # Creating a Series with the similarity scores in descending order\n",
    "    rank_1 = cosine_sim[idx_1]\n",
    "    rank_2 = cosine_sim[idx_2]\n",
    "    rank_3 = cosine_sim[idx_3]\n",
    "    \n",
    "    # Calculating the scores\n",
    "    score_series_1 = pd.Series(rank_1).sort_values(ascending = False)\n",
    "    score_series_2 = pd.Series(rank_2).sort_values(ascending = False)\n",
    "    score_series_3 = pd.Series(rank_3).sort_values(ascending = False)\n",
    "    \n",
    "    # Appending the names of movies\n",
    "    listings = score_series_1.append(score_series_2).append(score_series_3).sort_values(ascending = False)\n",
    "    recommended_movies = []\n",
    "    \n",
    "    # Choose top 50\n",
    "    top_50_indx = list(listings.iloc[1:50].index)\n",
    "\n",
    "    # Removing chosen movies\n",
    "    top_indx = np.setdiff1d(top_50_indx,[idx_1,idx_2,idx_3])\n",
    "    random.shuffle(top_indx)\n",
    "    for j in top_indx[:top_n]:\n",
    "        recommended_movies.append(indices[j])\n",
    "        \n",
    "    return recommended_movies"
   ]
  },
  {
   "cell_type": "markdown",
   "metadata": {},
   "source": [
    "Let us pick three movies to recommend on. "
   ]
  },
  {
   "cell_type": "code",
   "execution_count": null,
   "metadata": {},
   "outputs": [],
   "source": [
    "mov_list = ['So Proudly We Hail! (1943)','Grumpier Old Men (1995)',\n",
    "            'Batman Forever (1995)']"
   ]
  },
  {
   "cell_type": "markdown",
   "metadata": {},
   "source": [
    "Recommended movies :"
   ]
  },
  {
   "cell_type": "code",
   "execution_count": null,
   "metadata": {},
   "outputs": [],
   "source": [
    "collab_model(mov_list)"
   ]
  },
  {
   "cell_type": "markdown",
   "metadata": {},
   "source": [
    "This approach is different from the content based as it uses the historical ratings data as well as the SVD model in order to predict ratings for movies not yet watched."
   ]
  },
  {
   "cell_type": "markdown",
   "metadata": {},
   "source": [
    "## 10.Conclusion\n",
    "<a id='conclusion'></a>\n",
    "[Back to Table of Contents](#Table_Contents)  "
   ]
  },
  {
   "cell_type": "markdown",
   "metadata": {},
   "source": [
    "Throughout this notebook we have taken a comprehensive look at the data in order to gain insights and assist us in predicting ratings as well as building recommendation systems. <br>\n",
    "\n",
    "We are satisfied with the use and predictive abilities of the SVD model as it out performs others that have been shown above. This is due to the advantages of the SVD model as well as the limitations of the K Nearest Neighbors Algorithms.<br>\n",
    "\n",
    "The movie recommendation systems built are able to output movies based on selected movies, this is a vital tool in the movie industry. This system can produce meaningful recommendations to a collection of users for items or products that might interest them. Suggestions for books on Amazon, or movies on Netflix, are real-world examples of the operation of industry-strength recommender systems.<br><br>"
   ]
  },
  {
   "cell_type": "markdown",
   "metadata": {},
   "source": [
    "### Predictions for Submission <br> \n",
    "This code will be used for the submission to Kaggle "
   ]
  },
  {
   "cell_type": "code",
   "execution_count": null,
   "metadata": {},
   "outputs": [],
   "source": [
    "#iterate through the test userId and movieId to make predictions and apend result to a list\n",
    "pred_list = []\n",
    "for row in test.itertuples():\n",
    "    user = row.userId\n",
    "    movie = row.movieId\n",
    "    test_pred = model_tuned.predict(user,movie)\n",
    "    pred_list.append(test_pred.est) "
   ]
  },
  {
   "cell_type": "code",
   "execution_count": null,
   "metadata": {},
   "outputs": [],
   "source": [
    "#create a df with userId and our predicitons \n",
    "Submission = pd.DataFrame({\"Id\":sample['Id'], \n",
    "                           \"rating\":pred_list})\n",
    "Submission.to_csv(\"submission11.csv\", index=False)"
   ]
  }
 ],
 "metadata": {
  "kernelspec": {
   "display_name": "Python 3",
   "language": "python",
   "name": "python3"
  },
  "language_info": {
   "codemirror_mode": {
    "name": "ipython",
    "version": 3
   },
   "file_extension": ".py",
   "mimetype": "text/x-python",
   "name": "python",
   "nbconvert_exporter": "python",
   "pygments_lexer": "ipython3",
   "version": "3.7.1"
  },
  "toc": {
   "base_numbering": 1,
   "nav_menu": {},
   "number_sections": false,
   "sideBar": true,
   "skip_h1_title": false,
   "title_cell": "Table of Contents",
   "title_sidebar": "Contents",
   "toc_cell": false,
   "toc_position": {},
   "toc_section_display": true,
   "toc_window_display": true
  }
 },
 "nbformat": 4,
 "nbformat_minor": 4
}
